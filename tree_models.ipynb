{
  "cells": [
    {
      "cell_type": "code",
      "execution_count": 72,
      "metadata": {
        "id": "gq70abSjQlQk"
      },
      "outputs": [],
      "source": [
        "import matplotlib.pyplot as plt\n",
        "import pandas as pd"
      ]
    },
    {
      "cell_type": "code",
      "execution_count": 73,
      "metadata": {
        "colab": {
          "base_uri": "https://localhost:8080/"
        },
        "id": "8aB_7NdUQKoq",
        "outputId": "6d48158d-df44-4f06-9b56-82a636c4b491"
      },
      "outputs": [
        {
          "output_type": "stream",
          "name": "stdout",
          "text": [
            "         Date  Rented Bike Count  Hour  Temperature(°C)  Humidity(%)  \\\n",
            "0  01/12/2017                254     0             -5.2           37   \n",
            "1  01/12/2017                204     1             -5.5           38   \n",
            "2  01/12/2017                173     2             -6.0           39   \n",
            "3  01/12/2017                107     3             -6.2           40   \n",
            "4  01/12/2017                 78     4             -6.0           36   \n",
            "\n",
            "   Wind speed (m/s)  Visibility (10m)  Dew point temperature(°C)  \\\n",
            "0               2.2              2000                      -17.6   \n",
            "1               0.8              2000                      -17.6   \n",
            "2               1.0              2000                      -17.7   \n",
            "3               0.9              2000                      -17.6   \n",
            "4               2.3              2000                      -18.6   \n",
            "\n",
            "   Solar Radiation (MJ/m2)  Rainfall(mm)  Snowfall (cm) Seasons     Holiday  \\\n",
            "0                      0.0           0.0            0.0  Winter  No Holiday   \n",
            "1                      0.0           0.0            0.0  Winter  No Holiday   \n",
            "2                      0.0           0.0            0.0  Winter  No Holiday   \n",
            "3                      0.0           0.0            0.0  Winter  No Holiday   \n",
            "4                      0.0           0.0            0.0  Winter  No Holiday   \n",
            "\n",
            "  Functioning Day  \n",
            "0             Yes  \n",
            "1             Yes  \n",
            "2             Yes  \n",
            "3             Yes  \n",
            "4             Yes  \n",
            "8760\n"
          ]
        }
      ],
      "source": [
        "## Data import\n",
        "\n",
        "#file_path = 'SeoulBikeData.csv'\n",
        "file_path = '/content/SeoulBikeData.csv'\n",
        "\n",
        "try:\n",
        "    df = pd.read_csv(file_path, encoding='utf-8')\n",
        "except UnicodeDecodeError:\n",
        "    try:\n",
        "        df = pd.read_csv(file_path, encoding='ISO-8859-1')\n",
        "    except UnicodeDecodeError:\n",
        "        df = pd.read_csv(file_path, encoding='cp1252')\n",
        "\n",
        "print(df.head())\n",
        "print(len(df))"
      ]
    },
    {
      "cell_type": "markdown",
      "metadata": {
        "id": "ZLtzep3hQoeE"
      },
      "source": [
        "We begin by creating a test, val, train split. We decide to first try a single hold out set validation approach. We go with 75 train, 15 val, 10 test"
      ]
    },
    {
      "cell_type": "code",
      "execution_count": 74,
      "metadata": {
        "id": "UgeMGG5xQnX6"
      },
      "outputs": [],
      "source": [
        "import numpy as np\n",
        "from sklearn.model_selection import train_test_split"
      ]
    },
    {
      "cell_type": "code",
      "execution_count": 75,
      "metadata": {
        "id": "9o2veCaFSBdX"
      },
      "outputs": [],
      "source": [
        "features = df.drop(columns=['Rented Bike Count', 'Date', 'Functioning Day'])\n",
        "labels = df['Rented Bike Count']"
      ]
    },
    {
      "cell_type": "code",
      "execution_count": 76,
      "metadata": {
        "id": "AJq1TRszy5Qw"
      },
      "outputs": [],
      "source": [
        "from sklearn.preprocessing import LabelEncoder\n",
        "\n",
        "# Assuming 'categorical_columns' is a list of column names with categorical data\n",
        "categorical_columns = ['Seasons', 'Holiday']  # Replace with your column names\n",
        "\n",
        "# Apply label encoding to each categorical column\n",
        "label_encoders = {}\n",
        "for col in categorical_columns:\n",
        "    label_encoders[col] = LabelEncoder()\n",
        "    features[col] = label_encoders[col].fit_transform(features[col])\n"
      ]
    },
    {
      "cell_type": "code",
      "execution_count": 77,
      "metadata": {
        "id": "a0VfRPOARXE4"
      },
      "outputs": [],
      "source": [
        "train_ratio = 0.70\n",
        "val_ratio = 0.20\n",
        "test_ratio = 0.10\n",
        "\n",
        "X_train, X_, Y_train, Y_ = train_test_split(features, labels, test_size=test_ratio, random_state=42)\n",
        "X_val, X_test, Y_val, Y_test = train_test_split(X_, Y_, test_size=val_ratio/(1-test_ratio), random_state=42)\n"
      ]
    },
    {
      "cell_type": "code",
      "execution_count": 78,
      "metadata": {
        "colab": {
          "base_uri": "https://localhost:8080/"
        },
        "id": "10e8gL-ARmco",
        "outputId": "0ea6ffa0-2170-434e-e9b5-f27f35435639"
      },
      "outputs": [
        {
          "output_type": "stream",
          "name": "stdout",
          "text": [
            "7884\n",
            "195\n",
            "681\n"
          ]
        }
      ],
      "source": [
        "print(len(X_train))\n",
        "print(len(X_test))\n",
        "print(len(X_val))"
      ]
    },
    {
      "cell_type": "markdown",
      "metadata": {
        "id": "Iu-yh6tHTiSc"
      },
      "source": [
        "Must change none numerical columns to numberical labels"
      ]
    },
    {
      "cell_type": "code",
      "execution_count": 79,
      "metadata": {
        "id": "50vIG7XmihDM"
      },
      "outputs": [],
      "source": [
        "### given pred and ground truth, develops residual plots, R_sq calcs, and MAE\n",
        "def get_metrics(pred, actual, tree):\n",
        "  return False"
      ]
    },
    {
      "cell_type": "code",
      "execution_count": 80,
      "metadata": {
        "colab": {
          "base_uri": "https://localhost:8080/"
        },
        "id": "eGWeWgKYjB9u",
        "outputId": "8e0faacd-c806-4164-9990-5816bbd32440"
      },
      "outputs": [
        {
          "output_type": "stream",
          "name": "stdout",
          "text": [
            "0.0\n"
          ]
        }
      ],
      "source": [
        "## return MAE given pred and actual\n",
        "def get_MAE(pred, actual):\n",
        "  return sum(abs(np.array(pred) - np.array(actual)))/len(pred)\n",
        "\n",
        "print(get_MAE([1,2,3], [1,2,3]))"
      ]
    },
    {
      "cell_type": "code",
      "execution_count": 81,
      "metadata": {
        "colab": {
          "base_uri": "https://localhost:8080/"
        },
        "id": "gU-2Z6qhsIRH",
        "outputId": "253631f4-bd63-4b8c-acec-55eb74c5c720"
      },
      "outputs": [
        {
          "output_type": "execute_result",
          "data": {
            "text/plain": [
              "[0, 1]"
            ]
          },
          "metadata": {},
          "execution_count": 81
        }
      ],
      "source": [
        "## get the accuracy where we define accuracy as a prediction within k% of the actual\n",
        "def get_acc(pred, actual, k):\n",
        "  return [1 if abs(pred[i]-actual[i])/actual[i] <= k else 0 for i in range(len(pred))]\n",
        "  #([1 if (pred[i]*(1+k) >= actual[i] and pred[i]*(1-k) <= actual[i]) else 0 for i in range(len(pred))])\n",
        "\n",
        "get_acc([1,1.52], [1,1], .51)\n",
        "get_acc([1,1.51], [1,1], .51)\n",
        "get_acc([-1,.51], [1,1], .51)\n",
        "get_acc([-1,.52], [1,1], .51)"
      ]
    },
    {
      "cell_type": "markdown",
      "metadata": {
        "id": "I9zXevIgTAd6"
      },
      "source": [
        "Simple decision tree with all features"
      ]
    },
    {
      "cell_type": "code",
      "execution_count": 82,
      "metadata": {
        "id": "N_kpbLxOTEL6"
      },
      "outputs": [],
      "source": [
        "from sklearn.tree import DecisionTreeRegressor\n",
        "from sklearn.metrics import accuracy_score\n",
        "from sklearn.model_selection import cross_val_score\n",
        "\n",
        "decision_tree_full = DecisionTreeRegressor(random_state=2489)\n",
        "\n",
        "decision_tree_full.fit(X_train, Y_train)\n",
        "\n",
        "cross_val_score(decision_tree_full, X_train, Y_train, cv=10)\n",
        "\n",
        "pred = decision_tree_full.predict(X_val)"
      ]
    },
    {
      "cell_type": "markdown",
      "metadata": {
        "id": "4nWRdQJOXVJm"
      },
      "source": [
        "We see potential overfitting. Implementing some constraints may help"
      ]
    },
    {
      "cell_type": "code",
      "execution_count": 83,
      "metadata": {
        "colab": {
          "base_uri": "https://localhost:8080/"
        },
        "id": "_4xBxiabV5pG",
        "outputId": "2275e491-e172-45db-99b6-fc51e9e33718"
      },
      "outputs": [
        {
          "output_type": "stream",
          "name": "stdout",
          "text": [
            "R_sq on validation set 0.6566516148305881\n",
            "R_sq on training set 1.0\n",
            "Mean Absolute Error on validation set: 222.3259911894273\n"
          ]
        }
      ],
      "source": [
        "print(f'R_sq on validation set {decision_tree_full.score(X_val, Y_val)}')\n",
        "print(f'R_sq on training set {decision_tree_full.score(X_train, Y_train)}')\n",
        "print(f'Mean Absolute Error on validation set: {get_MAE(pred, Y_val)}')"
      ]
    },
    {
      "cell_type": "code",
      "execution_count": 84,
      "metadata": {
        "colab": {
          "base_uri": "https://localhost:8080/",
          "height": 638
        },
        "id": "2I41IBlUdyF5",
        "outputId": "fa10fc49-dd27-4c0f-aebc-3f57453fa9c4"
      },
      "outputs": [
        {
          "output_type": "execute_result",
          "data": {
            "text/plain": [
              "(array([  1.,   0.,   0.,   1.,   1.,   5.,   6.,   6.,  10.,  11.,  21.,\n",
              "         31.,  64., 260., 162.,  47.,  21.,  11.,   2.,   6.,   7.,   4.,\n",
              "          2.,   0.,   0.,   0.,   1.,   0.,   0.,   1.]),\n",
              " array([-2163.        , -2006.96666667, -1850.93333333, -1694.9       ,\n",
              "        -1538.86666667, -1382.83333333, -1226.8       , -1070.76666667,\n",
              "         -914.73333333,  -758.7       ,  -602.66666667,  -446.63333333,\n",
              "         -290.6       ,  -134.56666667,    21.46666667,   177.5       ,\n",
              "          333.53333333,   489.56666667,   645.6       ,   801.63333333,\n",
              "          957.66666667,  1113.7       ,  1269.73333333,  1425.76666667,\n",
              "         1581.8       ,  1737.83333333,  1893.86666667,  2049.9       ,\n",
              "         2205.93333333,  2361.96666667,  2518.        ]),\n",
              " <BarContainer object of 30 artists>)"
            ]
          },
          "metadata": {},
          "execution_count": 84
        },
        {
          "output_type": "display_data",
          "data": {
            "text/plain": [
              "<Figure size 640x480 with 1 Axes>"
            ],
            "image/png": "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\n"
          },
          "metadata": {}
        }
      ],
      "source": [
        "plt.hist(pred - Y_val, bins=30, alpha=0.7, color='blue', edgecolor='black')"
      ]
    },
    {
      "cell_type": "markdown",
      "metadata": {
        "id": "Nk8yuZG3bvSF"
      },
      "source": [
        "Histogram of % error"
      ]
    },
    {
      "cell_type": "code",
      "execution_count": 85,
      "metadata": {
        "colab": {
          "base_uri": "https://localhost:8080/",
          "height": 881
        },
        "id": "PH9oE0_QbV0M",
        "outputId": "56b28d23-7936-48c8-92c8-2d92ce037b47"
      },
      "outputs": [
        {
          "output_type": "stream",
          "name": "stdout",
          "text": [
            "5366    0.015369\n",
            "1147    0.233333\n",
            "5705   -0.075323\n",
            "7518   -0.147392\n",
            "2692    0.032609\n",
            "          ...   \n",
            "6152    0.105972\n",
            "7550    0.009082\n",
            "8476    0.329545\n",
            "828    -0.027586\n",
            "6266   -0.474632\n",
            "Name: Rented Bike Count, Length: 681, dtype: float64\n"
          ]
        },
        {
          "output_type": "execute_result",
          "data": {
            "text/plain": [
              "(array([ 27.,  14.,  24.,  41.,  63.,  88., 142.,  92.,  60.,  30.,  16.,\n",
              "         11.,   4.,   6.,   7.,   5.,   1.,   2.,   2.,   1.,   2.,   1.,\n",
              "          0.,   0.,   1.,   0.,   0.,   1.,   1.,   1.,   1.,   0.,   0.,\n",
              "          1.,   1.,   1.,   0.,   0.,   0.,   0.,   0.,   0.,   0.,   0.,\n",
              "          0.,   0.,   0.,   0.,   0.,   0.,   0.,   1.,   0.,   2.,   0.,\n",
              "          0.,   0.,   1.,   0.,   0.]),\n",
              " array([-1.  , -0.85, -0.7 , -0.55, -0.4 , -0.25, -0.1 ,  0.05,  0.2 ,\n",
              "         0.35,  0.5 ,  0.65,  0.8 ,  0.95,  1.1 ,  1.25,  1.4 ,  1.55,\n",
              "         1.7 ,  1.85,  2.  ,  2.15,  2.3 ,  2.45,  2.6 ,  2.75,  2.9 ,\n",
              "         3.05,  3.2 ,  3.35,  3.5 ,  3.65,  3.8 ,  3.95,  4.1 ,  4.25,\n",
              "         4.4 ,  4.55,  4.7 ,  4.85,  5.  ,  5.15,  5.3 ,  5.45,  5.6 ,\n",
              "         5.75,  5.9 ,  6.05,  6.2 ,  6.35,  6.5 ,  6.65,  6.8 ,  6.95,\n",
              "         7.1 ,  7.25,  7.4 ,  7.55,  7.7 ,  7.85,  8.  ]),\n",
              " <BarContainer object of 60 artists>)"
            ]
          },
          "metadata": {},
          "execution_count": 85
        },
        {
          "output_type": "display_data",
          "data": {
            "text/plain": [
              "<Figure size 640x480 with 1 Axes>"
            ],
            "image/png": "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\n"
          },
          "metadata": {}
        }
      ],
      "source": [
        "import matplotlib.pyplot as plt\n",
        "import math\n",
        "\n",
        "perc_error = ((decision_tree_full.predict(X_val) - Y_val)) / Y_val\n",
        "print(perc_error)\n",
        "plt.hist(perc_error, bins=60, alpha=0.7, color='blue', edgecolor='black', range=[min(perc_error), 8])"
      ]
    },
    {
      "cell_type": "markdown",
      "metadata": {
        "id": "jPZNcC8IXZcv"
      },
      "source": [
        "Now let us try the same tree with some feature selection given our EDA. We will select season, hour, and temperature."
      ]
    },
    {
      "cell_type": "code",
      "execution_count": 86,
      "metadata": {
        "id": "cUhNUi6IUUfY"
      },
      "outputs": [],
      "source": [
        "selected_cols = ['Seasons', 'Hour', 'Temperature(°C)']\n",
        "\n",
        "decision_tree_select = DecisionTreeRegressor(random_state=2489)\n",
        "\n",
        "decision_tree_select.fit(X_train[selected_cols], Y_train)\n",
        "\n",
        "cross_val_score(decision_tree_select, X_train, Y_train, cv=10)\n",
        "\n",
        "pred = decision_tree_select.predict(X_val[selected_cols])"
      ]
    },
    {
      "cell_type": "code",
      "execution_count": 87,
      "metadata": {
        "colab": {
          "base_uri": "https://localhost:8080/"
        },
        "id": "Jp_-qBuOYwqS",
        "outputId": "98f35aa2-cf5a-4462-b2a9-20c679304dc0"
      },
      "outputs": [
        {
          "output_type": "stream",
          "name": "stdout",
          "text": [
            "R_sq on validation set 0.2768148551755294\n",
            "R_sq on training set 0.9346599283393048\n",
            "Mean Absolute Error on validation set: 331.8215859030837\n"
          ]
        }
      ],
      "source": [
        "print(f'R_sq on validation set {decision_tree_select.score(X_val[selected_cols], Y_val)}')\n",
        "print(f'R_sq on training set {decision_tree_select.score(X_train[selected_cols], Y_train)}')\n",
        "print(f'Mean Absolute Error on validation set: {get_MAE(pred, Y_val)}')"
      ]
    },
    {
      "cell_type": "markdown",
      "metadata": {
        "id": "rc17tThxaNYy"
      },
      "source": [
        "Let's inspect the predictions"
      ]
    },
    {
      "cell_type": "code",
      "execution_count": 88,
      "metadata": {
        "colab": {
          "base_uri": "https://localhost:8080/",
          "height": 638
        },
        "id": "S5egZCnXaMw3",
        "outputId": "4c40beeb-25e2-4d97-9150-81e9271c8454"
      },
      "outputs": [
        {
          "output_type": "execute_result",
          "data": {
            "text/plain": [
              "(array([  2.,   2.,   1.,   1.,   7.,   4.,   8.,  11.,  11.,  13.,  26.,\n",
              "         42.,  82., 262.,  98.,  34.,  22.,   9.,  11.,  11.,   7.,   4.,\n",
              "          6.,   1.,   2.,   2.,   0.,   0.,   1.,   1.]),\n",
              " array([-2392.        , -2215.43333333, -2038.86666667, -1862.3       ,\n",
              "        -1685.73333333, -1509.16666667, -1332.6       , -1156.03333333,\n",
              "         -979.46666667,  -802.9       ,  -626.33333333,  -449.76666667,\n",
              "         -273.2       ,   -96.63333333,    79.93333333,   256.5       ,\n",
              "          433.06666667,   609.63333333,   786.2       ,   962.76666667,\n",
              "         1139.33333333,  1315.9       ,  1492.46666667,  1669.03333333,\n",
              "         1845.6       ,  2022.16666667,  2198.73333333,  2375.3       ,\n",
              "         2551.86666667,  2728.43333333,  2905.        ]),\n",
              " <BarContainer object of 30 artists>)"
            ]
          },
          "metadata": {},
          "execution_count": 88
        },
        {
          "output_type": "display_data",
          "data": {
            "text/plain": [
              "<Figure size 640x480 with 1 Axes>"
            ],
            "image/png": "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\n"
          },
          "metadata": {}
        }
      ],
      "source": [
        "import matplotlib.pyplot as plt\n",
        "plt.hist(pred - Y_val, bins=30, alpha=0.7, color='blue', edgecolor='black')"
      ]
    },
    {
      "cell_type": "code",
      "execution_count": 89,
      "metadata": {
        "colab": {
          "base_uri": "https://localhost:8080/",
          "height": 690
        },
        "id": "1qdm2LS0dSMT",
        "outputId": "3c124d33-c215-4221-d11c-020cd104a4d7"
      },
      "outputs": [
        {
          "output_type": "stream",
          "name": "stdout",
          "text": [
            "5366    0.203893\n",
            "1147    0.233333\n",
            "5705    0.195122\n",
            "7518   -0.147392\n",
            "2692   -0.282609\n",
            "          ...   \n",
            "6152   -0.645199\n",
            "7550   -0.076690\n",
            "8476    0.511364\n",
            "828    -0.096552\n",
            "6266   -0.613748\n",
            "Name: Rented Bike Count, Length: 681, dtype: float64\n"
          ]
        },
        {
          "output_type": "execute_result",
          "data": {
            "text/plain": [
              "(array([ 44.,  26.,  48.,  95., 120., 125.,  55.,  39.,  16.,   9.]),\n",
              " array([-1. , -0.8, -0.6, -0.4, -0.2,  0. ,  0.2,  0.4,  0.6,  0.8,  1. ]),\n",
              " <BarContainer object of 10 artists>)"
            ]
          },
          "metadata": {},
          "execution_count": 89
        },
        {
          "output_type": "display_data",
          "data": {
            "text/plain": [
              "<Figure size 640x480 with 1 Axes>"
            ],
            "image/png": "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\n"
          },
          "metadata": {}
        }
      ],
      "source": [
        "perc_error = ((decision_tree_select.predict(X_val[selected_cols]) - Y_val)) / Y_val\n",
        "print(perc_error)\n",
        "plt.hist(perc_error, bins=10, alpha=0.7, color='blue', edgecolor='black', range=[-1, 1])"
      ]
    },
    {
      "cell_type": "code",
      "execution_count": 90,
      "metadata": {
        "colab": {
          "base_uri": "https://localhost:8080/",
          "height": 564
        },
        "id": "SzxLmHzieCUU",
        "outputId": "78ed01c3-732b-47f5-cbfb-b9c4f242f5c7"
      },
      "outputs": [
        {
          "output_type": "display_data",
          "data": {
            "text/plain": [
              "<Figure size 800x600 with 1 Axes>"
            ],
            "image/png": "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\n"
          },
          "metadata": {}
        }
      ],
      "source": [
        "import seaborn as sns\n",
        "# Calculate residuals\n",
        "residuals = np.array(Y_val) - np.array(pred)\n",
        "\n",
        "# Calculate normalized residuals\n",
        "normalized_residuals = residuals / np.std(residuals)\n",
        "\n",
        "# Create a plot of normalized residuals\n",
        "plt.figure(figsize=(8, 6))\n",
        "sns.histplot(normalized_residuals, kde=True, color='blue')\n",
        "plt.xlabel('Normalized Residuals')\n",
        "plt.ylabel('Density')\n",
        "plt.title('Distribution of Normalized Residuals')\n",
        "plt.show()"
      ]
    },
    {
      "cell_type": "markdown",
      "metadata": {
        "id": "6baCSBvfebzT"
      },
      "source": [
        "We see that having all features considered does best on the validation set. Now we will try a more complex model by creating boosted trees."
      ]
    },
    {
      "cell_type": "code",
      "execution_count": 91,
      "metadata": {
        "id": "PHHzZ7GLelE2"
      },
      "outputs": [],
      "source": [
        "from sklearn.ensemble import GradientBoostingRegressor\n",
        "\n",
        "boosted_full = GradientBoostingRegressor(max_depth = 8, learning_rate = .1, random_state=0)\n",
        "boosted_full.fit(X_train, Y_train)\n",
        "preds_boost_full = boosted_full.predict(X_val)"
      ]
    },
    {
      "cell_type": "code",
      "execution_count": 92,
      "metadata": {
        "colab": {
          "base_uri": "https://localhost:8080/"
        },
        "id": "ZU69E8aCkCko",
        "outputId": "7543efb7-5cbf-44a4-c3c1-2e969b5b0529"
      },
      "outputs": [
        {
          "output_type": "stream",
          "name": "stdout",
          "text": [
            "R_sq on validation set 0.81763845857607\n",
            "R_sq on training set 0.9647789449144308\n",
            "Mean Absolute Error on validation set: 171.54708213054428\n"
          ]
        }
      ],
      "source": [
        "print(f'R_sq on validation set {boosted_full.score(X_val, Y_val)}')\n",
        "print(f'R_sq on training set {boosted_full.score(X_train, Y_train)}')\n",
        "print(f'Mean Absolute Error on validation set: {get_MAE(preds_boost_full, Y_val)}')"
      ]
    },
    {
      "cell_type": "code",
      "execution_count": 93,
      "metadata": {
        "colab": {
          "base_uri": "https://localhost:8080/",
          "height": 638
        },
        "id": "JoWHKMqTvTvG",
        "outputId": "3e8672f6-5c42-49b3-eb8a-0923e63cced5"
      },
      "outputs": [
        {
          "output_type": "execute_result",
          "data": {
            "text/plain": [
              "(array([  1.,   1.,   2.,   2.,   3.,   6.,  10.,  13.,  15.,  38.,  67.,\n",
              "        131., 251.,  66.,  27.,  14.,   9.,   5.,   8.,   7.,   2.,   0.,\n",
              "          1.,   1.,   0.,   0.,   0.,   0.,   0.,   1.]),\n",
              " array([-1339.55164838, -1229.81481815, -1120.07798792, -1010.34115769,\n",
              "         -900.60432747,  -790.86749724,  -681.13066701,  -571.39383678,\n",
              "         -461.65700655,  -351.92017632,  -242.18334609,  -132.44651586,\n",
              "          -22.70968563,    87.0271446 ,   196.76397482,   306.50080505,\n",
              "          416.23763528,   525.97446551,   635.71129574,   745.44812597,\n",
              "          855.1849562 ,   964.92178643,  1074.65861666,  1184.39544688,\n",
              "         1294.13227711,  1403.86910734,  1513.60593757,  1623.3427678 ,\n",
              "         1733.07959803,  1842.81642826,  1952.55325849]),\n",
              " <BarContainer object of 30 artists>)"
            ]
          },
          "metadata": {},
          "execution_count": 93
        },
        {
          "output_type": "display_data",
          "data": {
            "text/plain": [
              "<Figure size 640x480 with 1 Axes>"
            ],
            "image/png": "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\n"
          },
          "metadata": {}
        }
      ],
      "source": [
        "plt.hist(preds_boost_full - Y_val, bins=30, alpha=0.7, color='blue', edgecolor='black')"
      ]
    },
    {
      "cell_type": "markdown",
      "metadata": {
        "id": "q7s1MPu7fNXF"
      },
      "source": [
        "We see a significant improvement in the R^2 using a boosted tree, let us try feature selection on the boosted tree. Again, it turns out the feature selection does worse off. So let us continue with using all features."
      ]
    },
    {
      "cell_type": "code",
      "execution_count": 94,
      "metadata": {
        "colab": {
          "base_uri": "https://localhost:8080/"
        },
        "id": "udVN-KprfTeh",
        "outputId": "6a4dfd59-d2af-4e0a-8826-9826ee4abb13"
      },
      "outputs": [
        {
          "output_type": "execute_result",
          "data": {
            "text/plain": [
              "0.606246763453228"
            ]
          },
          "metadata": {},
          "execution_count": 94
        }
      ],
      "source": [
        "boosted_select_model = GradientBoostingRegressor(random_state=0, max_depth = 5)\n",
        "boosted_select_model.fit(X_train[selected_cols], Y_train)\n",
        "preds_boost_select = boosted_select_model.predict(X_val[selected_cols])\n",
        "boosted_select_model.score(X_val[selected_cols], Y_val)"
      ]
    },
    {
      "cell_type": "code",
      "execution_count": 95,
      "metadata": {
        "colab": {
          "base_uri": "https://localhost:8080/"
        },
        "id": "Cjdj72hrkOLH",
        "outputId": "44763281-0049-427f-a228-1ddf478adf25"
      },
      "outputs": [
        {
          "output_type": "stream",
          "name": "stdout",
          "text": [
            "R_sq on validation set 0.606246763453228\n",
            "R_sq on training set 0.7152361705564345\n",
            "Mean Absolute Error on validation set: 255.1354658508313\n"
          ]
        }
      ],
      "source": [
        "print(f'R_sq on validation set {boosted_select_model.score(X_val[selected_cols], Y_val)}')\n",
        "print(f'R_sq on training set {boosted_select_model.score(X_train[selected_cols], Y_train)}')\n",
        "print(f'Mean Absolute Error on validation set: {get_MAE(preds_boost_select, Y_val)}')"
      ]
    },
    {
      "cell_type": "code",
      "execution_count": 96,
      "metadata": {
        "colab": {
          "base_uri": "https://localhost:8080/",
          "height": 638
        },
        "id": "StDTwKWsvRH-",
        "outputId": "18655684-618e-44ab-c9fb-7e6468756fc4"
      },
      "outputs": [
        {
          "output_type": "execute_result",
          "data": {
            "text/plain": [
              "(array([  1.,   0.,   0.,   0.,   1.,   2.,   1.,   3.,   2.,  10.,  18.,\n",
              "         21.,  57.,  75., 168., 179.,  45.,  29.,  15.,  10.,   8.,  11.,\n",
              "          2.,   6.,   9.,   0.,   1.,   4.,   2.,   1.]),\n",
              " array([-2019.86334044, -1886.0722288 , -1752.28111715, -1618.49000551,\n",
              "        -1484.69889386, -1350.90778222, -1217.11667057, -1083.32555893,\n",
              "         -949.53444728,  -815.74333564,  -681.95222399,  -548.16111235,\n",
              "         -414.3700007 ,  -280.57888906,  -146.78777741,   -12.99666577,\n",
              "          120.79444588,   254.58555752,   388.37666917,   522.16778081,\n",
              "          655.95889246,   789.7500041 ,   923.54111575,  1057.33222739,\n",
              "         1191.12333904,  1324.91445068,  1458.70556233,  1592.49667397,\n",
              "         1726.28778562,  1860.07889726,  1993.87000891]),\n",
              " <BarContainer object of 30 artists>)"
            ]
          },
          "metadata": {},
          "execution_count": 96
        },
        {
          "output_type": "display_data",
          "data": {
            "text/plain": [
              "<Figure size 640x480 with 1 Axes>"
            ],
            "image/png": "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\n"
          },
          "metadata": {}
        }
      ],
      "source": [
        "plt.hist(preds_boost_select - Y_val, bins=30, alpha=0.7, color='blue', edgecolor='black')"
      ]
    },
    {
      "cell_type": "markdown",
      "metadata": {
        "id": "vUSiX6wpkeNo"
      },
      "source": [
        "We can analyze the two boosted tree's feature importance"
      ]
    },
    {
      "cell_type": "code",
      "execution_count": 97,
      "metadata": {
        "colab": {
          "base_uri": "https://localhost:8080/"
        },
        "id": "mzSJbtiCkgCt",
        "outputId": "1baf2c98-e700-43cf-ddc6-533e5ed0d6f0"
      },
      "outputs": [
        {
          "output_type": "stream",
          "name": "stdout",
          "text": [
            "Index(['Hour', 'Temperature(°C)', 'Humidity(%)', 'Wind speed (m/s)',\n",
            "       'Visibility (10m)', 'Dew point temperature(°C)',\n",
            "       'Solar Radiation (MJ/m2)', 'Rainfall(mm)', 'Snowfall (cm)', 'Seasons',\n",
            "       'Holiday'],\n",
            "      dtype='object') \n",
            "\n",
            "[0.30318358 0.32552226 0.06899794 0.02231504 0.02822547 0.05018614\n",
            " 0.10001685 0.05091395 0.00064095 0.04323503 0.00676279] \n",
            "\n",
            "['Seasons', 'Hour', 'Temperature(°C)']\n",
            "[0.05414147 0.48124055 0.46461798]\n"
          ]
        }
      ],
      "source": [
        "print(X_val.columns, '\\n')\n",
        "\n",
        "print(boosted_full.feature_importances_, '\\n')\n",
        "\n",
        "print(selected_cols)\n",
        "print(boosted_select_model.feature_importances_)"
      ]
    },
    {
      "cell_type": "code",
      "execution_count": 98,
      "metadata": {
        "id": "4QO-vSeZy5Q1"
      },
      "outputs": [],
      "source": [
        "dec_val_pred = decision_tree_full.predict(X_val)\n",
        "boost_val_pred = boosted_full.predict(X_val)\n",
        "\n",
        "dec_test_pred = decision_tree_full.predict(X_test)\n",
        "boost_test_pred = boosted_full.predict(X_test)"
      ]
    },
    {
      "cell_type": "code",
      "execution_count": 99,
      "metadata": {
        "id": "I-BwOtSRvOiG"
      },
      "outputs": [],
      "source": [
        "def accuracy_within_range(pred, actual, threshold):\n",
        "    thresh_perc = threshold / 100\n",
        "    errors = np.abs(actual - pred)\n",
        "    within_bounds = errors <= thresh_perc * np.abs(actual)\n",
        "    accuracy = np.mean(within_bounds)\n",
        "    return accuracy"
      ]
    },
    {
      "cell_type": "code",
      "execution_count": 100,
      "metadata": {
        "id": "vkbEi1c1y5Q2",
        "outputId": "b6aff8b7-4676-4fef-d70b-e814b32e7bc0",
        "colab": {
          "base_uri": "https://localhost:8080/"
        }
      },
      "outputs": [
        {
          "output_type": "stream",
          "name": "stdout",
          "text": [
            "Accuracy within 10% threshold for decision trees (validation): 27.46%\n"
          ]
        }
      ],
      "source": [
        "# Set the threshold (e.g., 5%)\n",
        "threshold_percent = 10\n",
        "\n",
        "# Calculate accuracy\n",
        "test_accuracy = accuracy_within_range(Y_val, dec_val_pred, threshold_percent)\n",
        "print(f\"Accuracy within {threshold_percent}% threshold for decision trees (validation): {test_accuracy * 100:.2f}%\")"
      ]
    },
    {
      "cell_type": "code",
      "execution_count": 101,
      "metadata": {
        "id": "Vd4mwHjMy5Q5",
        "outputId": "af514895-642f-4024-ffdb-90609cee7fa7",
        "colab": {
          "base_uri": "https://localhost:8080/"
        }
      },
      "outputs": [
        {
          "output_type": "stream",
          "name": "stdout",
          "text": [
            "Accuracy within 10% threshold for boosted trees (validation): 27.75%\n"
          ]
        }
      ],
      "source": [
        "# Set the threshold (e.g., 5%)\n",
        "threshold_percent = 10\n",
        "\n",
        "# Calculate accuracy\n",
        "test_accuracy = accuracy_within_range(Y_val, boost_val_pred, threshold_percent)\n",
        "print(f\"Accuracy within {threshold_percent}% threshold for boosted trees (validation): {test_accuracy * 100:.2f}%\")"
      ]
    },
    {
      "cell_type": "code",
      "execution_count": 102,
      "metadata": {
        "id": "FE8YjPwby5Q6",
        "outputId": "d26d30e0-4e15-43c2-a05b-5b4ccedff984",
        "colab": {
          "base_uri": "https://localhost:8080/"
        }
      },
      "outputs": [
        {
          "output_type": "stream",
          "name": "stdout",
          "text": [
            "Accuracy within 10% threshold for decision trees (test): 32.82%\n"
          ]
        }
      ],
      "source": [
        "# Set the threshold (e.g., 5%)\n",
        "threshold_percent = 10\n",
        "\n",
        "# Calculate accuracy\n",
        "test_accuracy = accuracy_within_range(Y_test, dec_test_pred, threshold_percent)\n",
        "print(f\"Accuracy within {threshold_percent}% threshold for decision trees (test): {test_accuracy * 100:.2f}%\")"
      ]
    },
    {
      "cell_type": "code",
      "execution_count": 103,
      "metadata": {
        "id": "_GeDsrizy5Q6",
        "outputId": "743075a2-ed68-4ba1-a7dd-312d7648f882",
        "colab": {
          "base_uri": "https://localhost:8080/"
        }
      },
      "outputs": [
        {
          "output_type": "stream",
          "name": "stdout",
          "text": [
            "Accuracy within 10% threshold for boosted decision trees (test): 29.23%\n"
          ]
        }
      ],
      "source": [
        "# Set the threshold (e.g., 5%)\n",
        "threshold_percent = 10\n",
        "\n",
        "# Calculate accuracy\n",
        "test_accuracy = accuracy_within_range(Y_test, boost_test_pred, threshold_percent)\n",
        "print(f\"Accuracy within {threshold_percent}% threshold for boosted decision trees (test): {test_accuracy * 100:.2f}%\")"
      ]
    },
    {
      "cell_type": "markdown",
      "source": [
        "Acc on val and test on worse tree models"
      ],
      "metadata": {
        "id": "yG4vN5dh0kIl"
      }
    },
    {
      "cell_type": "code",
      "source": [
        "select_pred_val = decision_tree_select.predict(X_val[selected_cols])\n",
        "select_boost_pred_val = boosted_select_model.predict(X_val[selected_cols])\n",
        "\n",
        "select_pred_test = decision_tree_select.predict(X_test[selected_cols])\n",
        "select_boost_pred_test = boosted_select_model.predict(X_test[selected_cols])"
      ],
      "metadata": {
        "id": "U24QaNLz0jyd"
      },
      "execution_count": 104,
      "outputs": []
    },
    {
      "cell_type": "code",
      "execution_count": 105,
      "metadata": {
        "colab": {
          "base_uri": "https://localhost:8080/"
        },
        "id": "Wgti2mSSy5Q6",
        "outputId": "110ff3f0-0525-4c5a-d5ca-e4a93db57193"
      },
      "outputs": [
        {
          "output_type": "stream",
          "name": "stdout",
          "text": [
            "Accuracy within 10% threshold for decision trees feature selection (test): 24.62%\n"
          ]
        }
      ],
      "source": [
        "# Calculate accuracy\n",
        "test_accuracy = accuracy_within_range(Y_test, select_pred_test, threshold_percent)\n",
        "print(f\"Accuracy within {threshold_percent}% threshold for decision trees feature selection (test): {test_accuracy * 100:.2f}%\")"
      ]
<<<<<<< Updated upstream
    },
    {
      "cell_type": "code",
      "source": [
        "# Calculate accuracy\n",
        "val_acc = accuracy_within_range(Y_val, select_pred_val, threshold_percent)\n",
        "print(f\"Accuracy within {threshold_percent}% threshold for decision trees feature selection (val): {val_acc * 100:.2f}%\")"
      ],
      "metadata": {
        "id": "595q1vhz1YpR",
        "outputId": "8c043d9b-7524-44d9-e44b-247b2a9e8535",
        "colab": {
          "base_uri": "https://localhost:8080/"
        }
      },
      "execution_count": 106,
      "outputs": [
        {
          "output_type": "stream",
          "name": "stdout",
          "text": [
            "Accuracy within 10% threshold for decision trees feature selection (val): 21.15%\n"
          ]
        }
      ]
    },
    {
      "cell_type": "code",
      "execution_count": 107,
      "metadata": {
        "outputId": "024590b7-f5dc-4ccc-c860-8d36ad2c64d5",
        "colab": {
          "base_uri": "https://localhost:8080/"
        },
        "id": "SChwfThm2Uzj"
      },
      "outputs": [
        {
          "output_type": "stream",
          "name": "stdout",
          "text": [
            "Accuracy within 10% threshold for boosted trees feature selection (test): 25.13%\n"
          ]
        }
      ],
      "source": [
        "# Calculate accuracy\n",
        "test_accuracy = accuracy_within_range(Y_test, select_boost_pred_test, threshold_percent)\n",
        "print(f\"Accuracy within {threshold_percent}% threshold for boosted trees feature selection (test): {test_accuracy * 100:.2f}%\")"
      ]
    },
    {
      "cell_type": "code",
      "execution_count": 108,
      "metadata": {
        "outputId": "8a534b18-daba-4693-df4a-a84d10dafa8f",
        "colab": {
          "base_uri": "https://localhost:8080/"
        },
        "id": "RUFdjxF42T2J"
      },
      "outputs": [
        {
          "output_type": "stream",
          "name": "stdout",
          "text": [
            "Accuracy within 10% threshold for boosted trees feature selection (val): 20.41%\n"
          ]
        }
      ],
      "source": [
        "# Calculate accuracy\n",
        "test_accuracy = accuracy_within_range(Y_val, select_boost_pred_val, threshold_percent)\n",
        "print(f\"Accuracy within {threshold_percent}% threshold for boosted trees feature selection (val): {test_accuracy * 100:.2f}%\")"
      ]
    },
    {
      "cell_type": "markdown",
      "source": [
        "### on test with various thresholds"
      ],
      "metadata": {
        "id": "rNiYpEH-5g75"
      }
    },
    {
      "cell_type": "code",
      "source": [
        "# Calculate accuracy\n",
        "acc_on_thresh_forboosted = []\n",
        "x_vals = []\n",
        "\n",
        "for i in range (0, 300, 10):\n",
        "  test_accuracy = accuracy_within_range(Y_test, boost_test_pred, i)\n",
        "  x_vals.append(i)\n",
        "  acc_on_thresh_forboosted.append(test_accuracy)\n",
        "\n",
        "plt.plot(x_vals, acc_on_thresh_forboosted)\n",
        "plt.xlabel('% error threshold as a whole number')\n",
        "plt.ylabel('Accuracy')\n",
        "plt.title('Prediction Accuracy vs % error threshold \\nfor boosted full model on test set')\n",
        "plt.show()"
      ],
      "metadata": {
        "id": "pIegPoll5jIz",
        "outputId": "0ad2f575-fb83-455c-e747-4985f844b958",
        "colab": {
          "base_uri": "https://localhost:8080/",
          "height": 493
        }
      },
      "execution_count": 109,
      "outputs": [
        {
          "output_type": "display_data",
          "data": {
            "text/plain": [
              "<Figure size 640x480 with 1 Axes>"
            ],
            "image/png": "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\n"
          },
          "metadata": {}
        }
      ]
=======
>>>>>>> Stashed changes
    }
  ],
  "metadata": {
    "colab": {
      "provenance": []
    },
    "kernelspec": {
      "display_name": "Python 3",
      "name": "python3"
    },
    "language_info": {
      "codemirror_mode": {
        "name": "ipython",
        "version": 3
      },
      "file_extension": ".py",
      "mimetype": "text/x-python",
      "name": "python",
      "nbconvert_exporter": "python",
      "pygments_lexer": "ipython3",
      "version": "3.9.13"
    }
  },
  "nbformat": 4,
  "nbformat_minor": 0
}