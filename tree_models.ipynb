{
  "cells": [
    {
      "cell_type": "code",
      "execution_count": 3,
      "metadata": {
        "id": "gq70abSjQlQk"
      },
      "outputs": [],
      "source": [
        "import matplotlib.pyplot as plt\n",
        "import pandas as pd"
      ]
    },
    {
      "cell_type": "code",
      "execution_count": 4,
      "metadata": {
        "colab": {
          "base_uri": "https://localhost:8080/"
        },
        "id": "8aB_7NdUQKoq",
        "outputId": "326d6a84-ec6a-466a-c327-4d9944cc9889"
      },
      "outputs": [
        {
          "output_type": "stream",
          "name": "stdout",
          "text": [
            "         Date  Rented Bike Count  Hour  Temperature(°C)  Humidity(%)  \\\n",
            "0  01/12/2017                254     0             -5.2           37   \n",
            "1  01/12/2017                204     1             -5.5           38   \n",
            "2  01/12/2017                173     2             -6.0           39   \n",
            "3  01/12/2017                107     3             -6.2           40   \n",
            "4  01/12/2017                 78     4             -6.0           36   \n",
            "\n",
            "   Wind speed (m/s)  Visibility (10m)  Dew point temperature(°C)  \\\n",
            "0               2.2              2000                      -17.6   \n",
            "1               0.8              2000                      -17.6   \n",
            "2               1.0              2000                      -17.7   \n",
            "3               0.9              2000                      -17.6   \n",
            "4               2.3              2000                      -18.6   \n",
            "\n",
            "   Solar Radiation (MJ/m2)  Rainfall(mm)  Snowfall (cm) Seasons     Holiday  \\\n",
            "0                      0.0           0.0            0.0  Winter  No Holiday   \n",
            "1                      0.0           0.0            0.0  Winter  No Holiday   \n",
            "2                      0.0           0.0            0.0  Winter  No Holiday   \n",
            "3                      0.0           0.0            0.0  Winter  No Holiday   \n",
            "4                      0.0           0.0            0.0  Winter  No Holiday   \n",
            "\n",
            "  Functioning Day  \n",
            "0             Yes  \n",
            "1             Yes  \n",
            "2             Yes  \n",
            "3             Yes  \n",
            "4             Yes  \n",
            "8760\n"
          ]
        }
      ],
      "source": [
        "## Data import\n",
        "\n",
        "#file_path = 'SeoulBikeData.csv'\n",
        "file_path = '/content/SeoulBikeData.csv'\n",
        "\n",
        "try:\n",
        "    df = pd.read_csv(file_path, encoding='utf-8')\n",
        "except UnicodeDecodeError:\n",
        "    try:\n",
        "        df = pd.read_csv(file_path, encoding='ISO-8859-1')\n",
        "    except UnicodeDecodeError:\n",
        "        df = pd.read_csv(file_path, encoding='cp1252')\n",
        "\n",
        "print(df.head())\n",
        "print(len(df))"
      ]
    },
    {
      "cell_type": "markdown",
      "metadata": {
        "id": "ZLtzep3hQoeE"
      },
      "source": [
        "We begin by creating a test, val, train split. We decide to first try a single hold out set validation approach. We go with 75 train, 15 val, 10 test"
      ]
    },
    {
      "cell_type": "code",
      "execution_count": 5,
      "metadata": {
        "id": "UgeMGG5xQnX6"
      },
      "outputs": [],
      "source": [
        "import numpy as np\n",
        "from sklearn.model_selection import train_test_split"
      ]
    },
    {
      "cell_type": "code",
      "execution_count": 6,
      "metadata": {
        "id": "9o2veCaFSBdX"
      },
      "outputs": [],
      "source": [
        "features = df.drop(columns=['Rented Bike Count', 'Date', 'Functioning Day'])\n",
        "labels = df['Rented Bike Count']"
      ]
    },
    {
      "cell_type": "code",
      "execution_count": 7,
      "metadata": {
        "id": "AJq1TRszy5Qw"
      },
      "outputs": [],
      "source": [
        "from sklearn.preprocessing import LabelEncoder\n",
        "\n",
        "# Assuming 'categorical_columns' is a list of column names with categorical data\n",
        "categorical_columns = ['Seasons', 'Holiday']  # Replace with your column names\n",
        "\n",
        "# Apply label encoding to each categorical column\n",
        "label_encoders = {}\n",
        "for col in categorical_columns:\n",
        "    label_encoders[col] = LabelEncoder()\n",
        "    features[col] = label_encoders[col].fit_transform(features[col])\n"
      ]
    },
    {
      "cell_type": "code",
      "execution_count": 8,
      "metadata": {
        "id": "a0VfRPOARXE4"
      },
      "outputs": [],
      "source": [
        "train_ratio = 0.70\n",
        "val_ratio = 0.20\n",
        "test_ratio = 0.10\n",
        "\n",
        "X_train, X_, Y_train, Y_ = train_test_split(features, labels, test_size=test_ratio, random_state=42)\n",
        "X_val, X_test, Y_val, Y_test = train_test_split(X_, Y_, test_size=val_ratio/(1-test_ratio), random_state=42)\n"
      ]
    },
    {
      "cell_type": "code",
      "execution_count": 9,
      "metadata": {
        "colab": {
          "base_uri": "https://localhost:8080/"
        },
        "id": "10e8gL-ARmco",
        "outputId": "1f74e8eb-61ea-4e28-c82a-6923c359d692"
      },
      "outputs": [
        {
          "output_type": "stream",
          "name": "stdout",
          "text": [
            "7884\n",
            "195\n",
            "681\n"
          ]
        }
      ],
      "source": [
        "print(len(X_train))\n",
        "print(len(X_test))\n",
        "print(len(X_val))"
      ]
    },
    {
      "cell_type": "markdown",
      "metadata": {
        "id": "Iu-yh6tHTiSc"
      },
      "source": [
        "Must change none numerical columns to numberical labels"
      ]
    },
    {
      "cell_type": "code",
      "execution_count": 10,
      "metadata": {
        "id": "50vIG7XmihDM"
      },
      "outputs": [],
      "source": [
        "### given pred and ground truth, develops residual plots, R_sq calcs, and MAE\n",
        "def get_metrics(pred, actual, tree):\n",
        "  return False"
      ]
    },
    {
      "cell_type": "code",
      "execution_count": 11,
      "metadata": {
        "colab": {
          "base_uri": "https://localhost:8080/"
        },
        "id": "eGWeWgKYjB9u",
        "outputId": "30954748-5bb3-4758-f5ed-dad1ed0f191a"
      },
      "outputs": [
        {
          "output_type": "stream",
          "name": "stdout",
          "text": [
            "0.0\n"
          ]
        }
      ],
      "source": [
        "## return MAE given pred and actual\n",
        "def get_MAE(pred, actual):\n",
        "  return sum(abs(np.array(pred) - np.array(actual)))/len(pred)\n",
        "\n",
        "print(get_MAE([1,2,3], [1,2,3]))"
      ]
    },
    {
      "cell_type": "code",
      "execution_count": 12,
      "metadata": {
        "colab": {
          "base_uri": "https://localhost:8080/"
        },
        "id": "gU-2Z6qhsIRH",
        "outputId": "26f02a3f-d180-4859-8a77-97ebe0495ea5"
      },
      "outputs": [
        {
          "output_type": "execute_result",
          "data": {
            "text/plain": [
              "[0, 1]"
            ]
          },
          "metadata": {},
          "execution_count": 12
        }
      ],
      "source": [
        "## get the accuracy where we define accuracy as a prediction within k% of the actual\n",
        "def get_acc(pred, actual, k):\n",
        "  return [1 if abs(pred[i]-actual[i])/actual[i] <= k else 0 for i in range(len(pred))]\n",
        "  #([1 if (pred[i]*(1+k) >= actual[i] and pred[i]*(1-k) <= actual[i]) else 0 for i in range(len(pred))])\n",
        "\n",
        "get_acc([1,1.52], [1,1], .51)\n",
        "get_acc([1,1.51], [1,1], .51)\n",
        "get_acc([-1,.51], [1,1], .51)\n",
        "get_acc([-1,.52], [1,1], .51)"
      ]
    },
    {
      "cell_type": "markdown",
      "metadata": {
        "id": "I9zXevIgTAd6"
      },
      "source": [
        "Simple decision tree with all features"
      ]
    },
    {
      "cell_type": "code",
      "execution_count": 13,
      "metadata": {
        "id": "N_kpbLxOTEL6"
      },
      "outputs": [],
      "source": [
        "from sklearn.tree import DecisionTreeRegressor\n",
        "from sklearn.metrics import accuracy_score\n",
        "from sklearn.model_selection import cross_val_score\n",
        "\n",
        "decision_tree_full = DecisionTreeRegressor(random_state=2489)\n",
        "\n",
        "decision_tree_full.fit(X_train, Y_train)\n",
        "\n",
        "cross_val_score(decision_tree_full, X_train, Y_train, cv=10)\n",
        "\n",
        "pred = decision_tree_full.predict(X_val)"
      ]
    },
    {
      "cell_type": "markdown",
      "metadata": {
        "id": "4nWRdQJOXVJm"
      },
      "source": [
        "We see potential overfitting. Implementing some constraints may help"
      ]
    },
    {
      "cell_type": "code",
      "execution_count": 14,
      "metadata": {
        "colab": {
          "base_uri": "https://localhost:8080/"
        },
        "id": "_4xBxiabV5pG",
        "outputId": "c6dfa3cd-54e6-4804-b6d7-84e2d9db5fab"
      },
      "outputs": [
        {
          "output_type": "stream",
          "name": "stdout",
          "text": [
            "R_sq on validation set 0.6566516148305881\n",
            "R_sq on training set 1.0\n",
            "Mean Absolute Error on validation set: 222.3259911894273\n"
          ]
        }
      ],
      "source": [
        "print(f'R_sq on validation set {decision_tree_full.score(X_val, Y_val)}')\n",
        "print(f'R_sq on training set {decision_tree_full.score(X_train, Y_train)}')\n",
        "print(f'Mean Absolute Error on validation set: {get_MAE(pred, Y_val)}')"
      ]
    },
    {
      "cell_type": "code",
      "execution_count": 15,
      "metadata": {
        "colab": {
          "base_uri": "https://localhost:8080/",
          "height": 638
        },
        "id": "2I41IBlUdyF5",
        "outputId": "93ebef55-e437-4e8f-fd8a-56716eabcc3b"
      },
      "outputs": [
        {
          "output_type": "execute_result",
          "data": {
            "text/plain": [
              "(array([  1.,   0.,   0.,   1.,   1.,   5.,   6.,   6.,  10.,  11.,  21.,\n",
              "         31.,  64., 260., 162.,  47.,  21.,  11.,   2.,   6.,   7.,   4.,\n",
              "          2.,   0.,   0.,   0.,   1.,   0.,   0.,   1.]),\n",
              " array([-2163.        , -2006.96666667, -1850.93333333, -1694.9       ,\n",
              "        -1538.86666667, -1382.83333333, -1226.8       , -1070.76666667,\n",
              "         -914.73333333,  -758.7       ,  -602.66666667,  -446.63333333,\n",
              "         -290.6       ,  -134.56666667,    21.46666667,   177.5       ,\n",
              "          333.53333333,   489.56666667,   645.6       ,   801.63333333,\n",
              "          957.66666667,  1113.7       ,  1269.73333333,  1425.76666667,\n",
              "         1581.8       ,  1737.83333333,  1893.86666667,  2049.9       ,\n",
              "         2205.93333333,  2361.96666667,  2518.        ]),\n",
              " <BarContainer object of 30 artists>)"
            ]
          },
          "metadata": {},
          "execution_count": 15
        },
        {
          "output_type": "display_data",
          "data": {
            "text/plain": [
              "<Figure size 640x480 with 1 Axes>"
            ],
            "image/png": "[encoded data removed]"
          },
          "metadata": {}
        }
      ],
      "source": [
        "plt.hist(pred - Y_val, bins=30, alpha=0.7, color='blue', edgecolor='black')"
      ]
    },
    {
      "cell_type": "markdown",
      "metadata": {
        "id": "Nk8yuZG3bvSF"
      },
      "source": [
        "Histogram of % error"
      ]
    },
    {
      "cell_type": "code",
      "execution_count": 16,
      "metadata": {
        "colab": {
          "base_uri": "https://localhost:8080/",
          "height": 881
        },
        "id": "PH9oE0_QbV0M",
        "outputId": "aeec0990-83d4-4237-c94e-a131aff57614"
      },
      "outputs": [
        {
          "output_type": "stream",
          "name": "stdout",
          "text": [
            "5366    0.015369\n",
            "1147    0.233333\n",
            "5705   -0.075323\n",
            "7518   -0.147392\n",
            "2692    0.032609\n",
            "          ...   \n",
            "6152    0.105972\n",
            "7550    0.009082\n",
            "8476    0.329545\n",
            "828    -0.027586\n",
            "6266   -0.474632\n",
            "Name: Rented Bike Count, Length: 681, dtype: float64\n"
          ]
        },
        {
          "output_type": "execute_result",
          "data": {
            "text/plain": [
              "(array([ 27.,  14.,  24.,  41.,  63.,  88., 142.,  92.,  60.,  30.,  16.,\n",
              "         11.,   4.,   6.,   7.,   5.,   1.,   2.,   2.,   1.,   2.,   1.,\n",
              "          0.,   0.,   1.,   0.,   0.,   1.,   1.,   1.,   1.,   0.,   0.,\n",
              "          1.,   1.,   1.,   0.,   0.,   0.,   0.,   0.,   0.,   0.,   0.,\n",
              "          0.,   0.,   0.,   0.,   0.,   0.,   0.,   1.,   0.,   2.,   0.,\n",
              "          0.,   0.,   1.,   0.,   0.]),\n",
              " array([-1.  , -0.85, -0.7 , -0.55, -0.4 , -0.25, -0.1 ,  0.05,  0.2 ,\n",
              "         0.35,  0.5 ,  0.65,  0.8 ,  0.95,  1.1 ,  1.25,  1.4 ,  1.55,\n",
              "         1.7 ,  1.85,  2.  ,  2.15,  2.3 ,  2.45,  2.6 ,  2.75,  2.9 ,\n",
              "         3.05,  3.2 ,  3.35,  3.5 ,  3.65,  3.8 ,  3.95,  4.1 ,  4.25,\n",
              "         4.4 ,  4.55,  4.7 ,  4.85,  5.  ,  5.15,  5.3 ,  5.45,  5.6 ,\n",
              "         5.75,  5.9 ,  6.05,  6.2 ,  6.35,  6.5 ,  6.65,  6.8 ,  6.95,\n",
              "         7.1 ,  7.25,  7.4 ,  7.55,  7.7 ,  7.85,  8.  ]),\n",
              " <BarContainer object of 60 artists>)"
            ]
          },
          "metadata": {},
          "execution_count": 16
        },
        {
          "output_type": "display_data",
          "data": {
            "text/plain": [
              "<Figure size 640x480 with 1 Axes>"
            ],
            "image/png": "[encoded data removed]"
          },
          "metadata": {}
        }
      ],
      "source": [
        "import matplotlib.pyplot as plt\n",
        "import math\n",
        "\n",
        "perc_error = ((decision_tree_full.predict(X_val) - Y_val)) / Y_val\n",
        "print(perc_error)\n",
        "plt.hist(perc_error, bins=60, alpha=0.7, color='blue', edgecolor='black', range=[min(perc_error), 8])"
      ]
    },
    {
      "cell_type": "markdown",
      "metadata": {
        "id": "jPZNcC8IXZcv"
      },
      "source": [
        "Now let us try the same tree with some feature selection given our EDA. We will select season, hour, and temperature."
      ]
    },
    {
      "cell_type": "code",
      "execution_count": 17,
      "metadata": {
        "id": "cUhNUi6IUUfY"
      },
      "outputs": [],
      "source": [
        "selected_cols = ['Seasons', 'Hour', 'Temperature(°C)']\n",
        "\n",
        "decision_tree_select = DecisionTreeRegressor(random_state=2489)\n",
        "\n",
        "decision_tree_select.fit(X_train[selected_cols], Y_train)\n",
        "\n",
        "cross_val_score(decision_tree_select, X_train, Y_train, cv=10)\n",
        "\n",
        "pred = decision_tree_select.predict(X_val[selected_cols])"
      ]
    },
    {
      "cell_type": "code",
      "execution_count": 18,
      "metadata": {
        "colab": {
          "base_uri": "https://localhost:8080/"
        },
        "id": "Jp_-qBuOYwqS",
        "outputId": "29806bdc-2c0e-479c-8949-a3f77cbecdaf"
      },
      "outputs": [
        {
          "output_type": "stream",
          "name": "stdout",
          "text": [
            "R_sq on validation set 0.2768148551755294\n",
            "R_sq on training set 0.9346599283393048\n",
            "Mean Absolute Error on validation set: 331.8215859030837\n"
          ]
        }
      ],
      "source": [
        "print(f'R_sq on validation set {decision_tree_select.score(X_val[selected_cols], Y_val)}')\n",
        "print(f'R_sq on training set {decision_tree_select.score(X_train[selected_cols], Y_train)}')\n",
        "print(f'Mean Absolute Error on validation set: {get_MAE(pred, Y_val)}')"
      ]
    },
    {
      "cell_type": "markdown",
      "metadata": {
        "id": "rc17tThxaNYy"
      },
      "source": [
        "Let's inspect the predictions"
      ]
    },
    {
      "cell_type": "code",
      "execution_count": 19,
      "metadata": {
        "colab": {
          "base_uri": "https://localhost:8080/",
          "height": 638
        },
        "id": "S5egZCnXaMw3",
        "outputId": "58b4140a-d343-43c1-9f8a-5cd1b0099371"
      },
      "outputs": [
        {
          "output_type": "execute_result",
          "data": {
            "text/plain": [
              "(array([  2.,   2.,   1.,   1.,   7.,   4.,   8.,  11.,  11.,  13.,  26.,\n",
              "         42.,  82., 262.,  98.,  34.,  22.,   9.,  11.,  11.,   7.,   4.,\n",
              "          6.,   1.,   2.,   2.,   0.,   0.,   1.,   1.]),\n",
              " array([-2392.        , -2215.43333333, -2038.86666667, -1862.3       ,\n",
              "        -1685.73333333, -1509.16666667, -1332.6       , -1156.03333333,\n",
              "         -979.46666667,  -802.9       ,  -626.33333333,  -449.76666667,\n",
              "         -273.2       ,   -96.63333333,    79.93333333,   256.5       ,\n",
              "          433.06666667,   609.63333333,   786.2       ,   962.76666667,\n",
              "         1139.33333333,  1315.9       ,  1492.46666667,  1669.03333333,\n",
              "         1845.6       ,  2022.16666667,  2198.73333333,  2375.3       ,\n",
              "         2551.86666667,  2728.43333333,  2905.        ]),\n",
              " <BarContainer object of 30 artists>)"
            ]
          },
          "metadata": {},
          "execution_count": 19
        },
        {
          "output_type": "display_data",
          "data": {
            "text/plain": [
              "<Figure size 640x480 with 1 Axes>"
            ],
            "image/png": "[encoded data removed]"
          },
          "metadata": {}
        }
      ],
      "source": [
        "import matplotlib.pyplot as plt\n",
        "plt.hist(pred - Y_val, bins=30, alpha=0.7, color='blue', edgecolor='black')"
      ]
    },
    {
      "cell_type": "code",
      "execution_count": 20,
      "metadata": {
        "colab": {
          "base_uri": "https://localhost:8080/",
          "height": 690
        },
        "id": "1qdm2LS0dSMT",
        "outputId": "3431b01e-ef50-4d5b-f562-288a20039fbb"
      },
      "outputs": [
        {
          "output_type": "stream",
          "name": "stdout",
          "text": [
            "5366    0.203893\n",
            "1147    0.233333\n",
            "5705    0.195122\n",
            "7518   -0.147392\n",
            "2692   -0.282609\n",
            "          ...   \n",
            "6152   -0.645199\n",
            "7550   -0.076690\n",
            "8476    0.511364\n",
            "828    -0.096552\n",
            "6266   -0.613748\n",
            "Name: Rented Bike Count, Length: 681, dtype: float64\n"
          ]
        },
        {
          "output_type": "execute_result",
          "data": {
            "text/plain": [
              "(array([ 44.,  26.,  48.,  95., 120., 125.,  55.,  39.,  16.,   9.]),\n",
              " array([-1. , -0.8, -0.6, -0.4, -0.2,  0. ,  0.2,  0.4,  0.6,  0.8,  1. ]),\n",
              " <BarContainer object of 10 artists>)"
            ]
          },
          "metadata": {},
          "execution_count": 20
        },
        {
          "output_type": "display_data",
          "data": {
            "text/plain": [
              "<Figure size 640x480 with 1 Axes>"
            ],
            "image/png": "[encoded data removed]"
          },
          "metadata": {}
        }
      ],
      "source": [
        "perc_error = ((decision_tree_select.predict(X_val[selected_cols]) - Y_val)) / Y_val\n",
        "print(perc_error)\n",
        "plt.hist(perc_error, bins=10, alpha=0.7, color='blue', edgecolor='black', range=[-1, 1])"
      ]
    },
    {
      "cell_type": "code",
      "execution_count": 21,
      "metadata": {
        "colab": {
          "base_uri": "https://localhost:8080/",
          "height": 564
        },
        "id": "SzxLmHzieCUU",
        "outputId": "a4de14e9-2e8a-48ab-9829-dcb61a888969"
      },
      "outputs": [
        {
          "output_type": "display_data",
          "data": {
            "text/plain": [
              "<Figure size 800x600 with 1 Axes>"
            ],
            "image/png": "[encoded data removed]"
          },
          "metadata": {}
        }
      ],
      "source": [
        "import seaborn as sns\n",
        "# Calculate residuals\n",
        "residuals = np.array(Y_val) - np.array(pred)\n",
        "\n",
        "# Calculate normalized residuals\n",
        "normalized_residuals = residuals / np.std(residuals)\n",
        "\n",
        "# Create a plot of normalized residuals\n",
        "plt.figure(figsize=(8, 6))\n",
        "sns.histplot(normalized_residuals, kde=True, color='blue')\n",
        "plt.xlabel('Normalized Residuals')\n",
        "plt.ylabel('Density')\n",
        "plt.title('Distribution of Normalized Residuals')\n",
        "plt.show()"
      ]
    },
    {
      "cell_type": "markdown",
      "metadata": {
        "id": "6baCSBvfebzT"
      },
      "source": [
        "We see that having all features considered does best on the validation set. Now we will try a more complex model by creating boosted trees."
      ]
    },
    {
      "cell_type": "code",
      "execution_count": 22,
      "metadata": {
        "id": "PHHzZ7GLelE2"
      },
      "outputs": [],
      "source": [
        "from sklearn.ensemble import GradientBoostingRegressor\n",
        "\n",
        "boosted_full = GradientBoostingRegressor(max_depth = 8, learning_rate = .1, random_state=0)\n",
        "boosted_full.fit(X_train, Y_train)\n",
        "preds_boost_full = boosted_full.predict(X_val)"
      ]
    },
    {
      "cell_type": "code",
      "execution_count": 23,
      "metadata": {
        "colab": {
          "base_uri": "https://localhost:8080/"
        },
        "id": "ZU69E8aCkCko",
        "outputId": "2b794e66-4bcb-461f-8207-b7736b9d8597"
      },
      "outputs": [
        {
          "output_type": "stream",
          "name": "stdout",
          "text": [
            "R_sq on validation set 0.81763845857607\n",
            "R_sq on training set 0.9647789449144308\n",
            "Mean Absolute Error on validation set: 171.54708213054428\n"
          ]
        }
      ],
      "source": [
        "print(f'R_sq on validation set {boosted_full.score(X_val, Y_val)}')\n",
        "print(f'R_sq on training set {boosted_full.score(X_train, Y_train)}')\n",
        "print(f'Mean Absolute Error on validation set: {get_MAE(preds_boost_full, Y_val)}')"
      ]
    },
    {
      "cell_type": "code",
      "execution_count": 24,
      "metadata": {
        "colab": {
          "base_uri": "https://localhost:8080/",
          "height": 638
        },
        "id": "JoWHKMqTvTvG",
        "outputId": "8f5c8b28-31b9-4b96-97b8-fe1fb0d52bfb"
      },
      "outputs": [
        {
          "output_type": "execute_result",
          "data": {
            "text/plain": [
              "(array([  1.,   1.,   2.,   2.,   3.,   6.,  10.,  13.,  15.,  38.,  67.,\n",
              "        131., 251.,  66.,  27.,  14.,   9.,   5.,   8.,   7.,   2.,   0.,\n",
              "          1.,   1.,   0.,   0.,   0.,   0.,   0.,   1.]),\n",
              " array([-1339.55164838, -1229.81481815, -1120.07798792, -1010.34115769,\n",
              "         -900.60432747,  -790.86749724,  -681.13066701,  -571.39383678,\n",
              "         -461.65700655,  -351.92017632,  -242.18334609,  -132.44651586,\n",
              "          -22.70968563,    87.0271446 ,   196.76397482,   306.50080505,\n",
              "          416.23763528,   525.97446551,   635.71129574,   745.44812597,\n",
              "          855.1849562 ,   964.92178643,  1074.65861666,  1184.39544688,\n",
              "         1294.13227711,  1403.86910734,  1513.60593757,  1623.3427678 ,\n",
              "         1733.07959803,  1842.81642826,  1952.55325849]),\n",
              " <BarContainer object of 30 artists>)"
            ]
          },
          "metadata": {},
          "execution_count": 24
        },
        {
          "output_type": "display_data",
          "data": {
            "text/plain": [
              "<Figure size 640x480 with 1 Axes>"
            ],
            "image/png": "[encoded data removed]"
          },
          "metadata": {}
        }
      ],
      "source": [
        "plt.hist(preds_boost_full - Y_val, bins=30, alpha=0.7, color='blue', edgecolor='black')"
      ]
    },
    {
      "cell_type": "markdown",
      "metadata": {
        "id": "q7s1MPu7fNXF"
      },
      "source": [
        "We see a significant improvement in the R^2 using a boosted tree, let us try feature selection on the boosted tree. Again, it turns out the feature selection does worse off. So let us continue with using all features."
      ]
    },
    {
      "cell_type": "code",
      "execution_count": 25,
      "metadata": {
        "colab": {
          "base_uri": "https://localhost:8080/"
        },
        "id": "udVN-KprfTeh",
        "outputId": "2e79e84c-fe0a-4367-f19b-5faf6859a5a2"
      },
      "outputs": [
        {
          "output_type": "execute_result",
          "data": {
            "text/plain": [
              "0.606246763453228"
            ]
          },
          "metadata": {},
          "execution_count": 25
        }
      ],
      "source": [
        "boosted_select_model = GradientBoostingRegressor(random_state=0, max_depth = 5)\n",
        "boosted_select_model.fit(X_train[selected_cols], Y_train)\n",
        "preds_boost_select = boosted_select_model.predict(X_val[selected_cols])\n",
        "boosted_select_model.score(X_val[selected_cols], Y_val)"
      ]
    },
    {
      "cell_type": "code",
      "execution_count": 26,
      "metadata": {
        "colab": {
          "base_uri": "https://localhost:8080/"
        },
        "id": "Cjdj72hrkOLH",
        "outputId": "902829ba-5dd7-4aa5-fcb4-e47da497a167"
      },
      "outputs": [
        {
          "output_type": "stream",
          "name": "stdout",
          "text": [
            "R_sq on validation set 0.606246763453228\n",
            "R_sq on training set 0.7152361705564345\n",
            "Mean Absolute Error on validation set: 255.1354658508313\n"
          ]
        }
      ],
      "source": [
        "print(f'R_sq on validation set {boosted_select_model.score(X_val[selected_cols], Y_val)}')\n",
        "print(f'R_sq on training set {boosted_select_model.score(X_train[selected_cols], Y_train)}')\n",
        "print(f'Mean Absolute Error on validation set: {get_MAE(preds_boost_select, Y_val)}')"
      ]
    },
    {
      "cell_type": "code",
      "execution_count": 27,
      "metadata": {
        "colab": {
          "base_uri": "https://localhost:8080/",
          "height": 638
        },
        "id": "StDTwKWsvRH-",
        "outputId": "08bb542e-8461-4a7a-943e-84207e659591"
      },
      "outputs": [
        {
          "output_type": "execute_result",
          "data": {
            "text/plain": [
              "(array([  1.,   0.,   0.,   0.,   1.,   2.,   1.,   3.,   2.,  10.,  18.,\n",
              "         21.,  57.,  75., 168., 179.,  45.,  29.,  15.,  10.,   8.,  11.,\n",
              "          2.,   6.,   9.,   0.,   1.,   4.,   2.,   1.]),\n",
              " array([-2019.86334044, -1886.0722288 , -1752.28111715, -1618.49000551,\n",
              "        -1484.69889386, -1350.90778222, -1217.11667057, -1083.32555893,\n",
              "         -949.53444728,  -815.74333564,  -681.95222399,  -548.16111235,\n",
              "         -414.3700007 ,  -280.57888906,  -146.78777741,   -12.99666577,\n",
              "          120.79444588,   254.58555752,   388.37666917,   522.16778081,\n",
              "          655.95889246,   789.7500041 ,   923.54111575,  1057.33222739,\n",
              "         1191.12333904,  1324.91445068,  1458.70556233,  1592.49667397,\n",
              "         1726.28778562,  1860.07889726,  1993.87000891]),\n",
              " <BarContainer object of 30 artists>)"
            ]
          },
          "metadata": {},
          "execution_count": 27
        },
        {
          "output_type": "display_data",
          "data": {
            "text/plain": [
              "<Figure size 640x480 with 1 Axes>"
            ],
            "image/png": "[encoded data removed]"
          },
          "metadata": {}
        }
      ],
      "source": [
        "plt.hist(preds_boost_select - Y_val, bins=30, alpha=0.7, color='blue', edgecolor='black')"
      ]
    },
    {
      "cell_type": "markdown",
      "metadata": {
        "id": "vUSiX6wpkeNo"
      },
      "source": [
        "We can analyze the two boosted tree's feature importance"
      ]
    },
    {
      "cell_type": "code",
      "execution_count": 28,
      "metadata": {
        "colab": {
          "base_uri": "https://localhost:8080/"
        },
        "id": "mzSJbtiCkgCt",
        "outputId": "eb4ef219-138f-4834-c4cf-593c14bfeeef"
      },
      "outputs": [
        {
          "output_type": "stream",
          "name": "stdout",
          "text": [
            "Index(['Hour', 'Temperature(°C)', 'Humidity(%)', 'Wind speed (m/s)',\n",
            "       'Visibility (10m)', 'Dew point temperature(°C)',\n",
            "       'Solar Radiation (MJ/m2)', 'Rainfall(mm)', 'Snowfall (cm)', 'Seasons',\n",
            "       'Holiday'],\n",
            "      dtype='object') \n",
            "\n",
            "[0.30318358 0.32552226 0.06899794 0.02231504 0.02822547 0.05018614\n",
            " 0.10001685 0.05091395 0.00064095 0.04323503 0.00676279] \n",
            "\n",
            "['Seasons', 'Hour', 'Temperature(°C)']\n",
            "[0.05414147 0.48124055 0.46461798]\n"
          ]
        }
      ],
      "source": [
        "print(X_val.columns, '\\n')\n",
        "\n",
        "print(boosted_full.feature_importances_, '\\n')\n",
        "\n",
        "print(selected_cols)\n",
        "print(boosted_select_model.feature_importances_)"
      ]
    },
    {
      "cell_type": "code",
      "execution_count": 29,
      "metadata": {
        "id": "4QO-vSeZy5Q1"
      },
      "outputs": [],
      "source": [
        "dec_val_pred = decision_tree_full.predict(X_val)\n",
        "boost_val_pred = boosted_full.predict(X_val)\n",
        "\n",
        "dec_test_pred = decision_tree_full.predict(X_test)\n",
        "boost_test_pred = boosted_full.predict(X_test)"
      ]
    },
    {
      "cell_type": "code",
      "execution_count": 30,
      "metadata": {
        "id": "I-BwOtSRvOiG"
      },
      "outputs": [],
      "source": [
        "def accuracy_within_range(pred, actual, threshold):\n",
        "    thresh_perc = threshold / 100\n",
        "    errors = np.abs(actual - pred)\n",
        "    within_bounds = errors <= thresh_perc * np.abs(actual)\n",
        "    accuracy = np.mean(within_bounds)\n",
        "    return accuracy"
      ]
    },
    {
      "cell_type": "code",
      "execution_count": 31,
      "metadata": {
        "id": "vkbEi1c1y5Q2",
        "outputId": "71601d81-48f7-4919-9806-98b4a8e552cb",
        "colab": {
          "base_uri": "https://localhost:8080/"
        }
      },
      "outputs": [
        {
          "output_type": "stream",
          "name": "stdout",
          "text": [
            "Accuracy within 10% threshold for decision trees (validation): 27.46%\n"
          ]
        }
      ],
      "source": [
        "# Set the threshold (e.g., 5%)\n",
        "threshold_percent = 10\n",
        "\n",
        "# Calculate accuracy\n",
        "test_accuracy = accuracy_within_range(Y_val, dec_val_pred, threshold_percent)\n",
        "print(f\"Accuracy within {threshold_percent}% threshold for decision trees (validation): {test_accuracy * 100:.2f}%\")"
      ]
    },
    {
      "cell_type": "code",
      "execution_count": 32,
      "metadata": {
        "id": "Vd4mwHjMy5Q5",
        "outputId": "48bb9403-9a76-425e-845f-e1afd6c53d51",
        "colab": {
          "base_uri": "https://localhost:8080/"
        }
      },
      "outputs": [
        {
          "output_type": "stream",
          "name": "stdout",
          "text": [
            "Accuracy within 10% threshold for boosted trees (validation): 27.75%\n"
          ]
        }
      ],
      "source": [
        "# Set the threshold (e.g., 5%)\n",
        "threshold_percent = 10\n",
        "\n",
        "# Calculate accuracy\n",
        "test_accuracy = accuracy_within_range(Y_val, boost_val_pred, threshold_percent)\n",
        "print(f\"Accuracy within {threshold_percent}% threshold for boosted trees (validation): {test_accuracy * 100:.2f}%\")"
      ]
    },
    {
      "cell_type": "code",
      "execution_count": 33,
      "metadata": {
        "id": "FE8YjPwby5Q6",
        "outputId": "1ae30df4-6ed1-4d62-8ee4-289e744d9cd5",
        "colab": {
          "base_uri": "https://localhost:8080/"
        }
      },
      "outputs": [
        {
          "output_type": "stream",
          "name": "stdout",
          "text": [
            "Accuracy within 10% threshold for decision trees (test): 32.82%\n"
          ]
        }
      ],
      "source": [
        "# Set the threshold (e.g., 5%)\n",
        "threshold_percent = 10\n",
        "\n",
        "# Calculate accuracy\n",
        "test_accuracy = accuracy_within_range(Y_test, dec_test_pred, threshold_percent)\n",
        "print(f\"Accuracy within {threshold_percent}% threshold for decision trees (test): {test_accuracy * 100:.2f}%\")"
      ]
    },
    {
      "cell_type": "code",
      "execution_count": 34,
      "metadata": {
        "id": "_GeDsrizy5Q6",
        "outputId": "07fcc4b4-7e54-4c9c-9c2c-f1776522e16c",
        "colab": {
          "base_uri": "https://localhost:8080/"
        }
      },
      "outputs": [
        {
          "output_type": "stream",
          "name": "stdout",
          "text": [
            "Accuracy within 10% threshold for boosted decision trees (test): 29.23%\n"
          ]
        }
      ],
      "source": [
        "# Set the threshold (e.g., 5%)\n",
        "threshold_percent = 10\n",
        "\n",
        "# Calculate accuracy\n",
        "test_accuracy = accuracy_within_range(Y_test, boost_test_pred, threshold_percent)\n",
        "print(f\"Accuracy within {threshold_percent}% threshold for boosted decision trees (test): {test_accuracy * 100:.2f}%\")"
      ]
    },
    {
      "cell_type": "markdown",
      "source": [
        "Acc on val and test on worse tree models"
      ],
      "metadata": {
        "id": "yG4vN5dh0kIl"
      }
    },
    {
      "cell_type": "code",
      "source": [
        "select_pred_val = decision_tree_select.predict(X_val[selected_cols])\n",
        "select_boost_pred_val = boosted_select_model.predict(X_val[selected_cols])\n",
        "\n",
        "select_pred_test = decision_tree_select.predict(X_test[selected_cols])\n",
        "select_boost_pred_test = boosted_select_model.predict(X_test[selected_cols])"
      ],
      "metadata": {
        "id": "U24QaNLz0jyd"
      },
      "execution_count": 43,
      "outputs": []
    },
    {
      "cell_type": "code",
      "execution_count": 44,
      "metadata": {
        "colab": {
          "base_uri": "https://localhost:8080/"
        },
        "id": "Wgti2mSSy5Q6",
        "outputId": "923adbbd-dcf3-40c8-e2d7-ded145537f80"
      },
      "outputs": [
        {
          "output_type": "stream",
          "name": "stdout",
          "text": [
            "Accuracy within 10% threshold for decision trees feature selection (test): 24.62%\n"
          ]
        }
      ],
      "source": [
        "# Calculate accuracy\n",
        "test_accuracy = accuracy_within_range(Y_test, select_pred_test, threshold_percent)\n",
        "print(f\"Accuracy within {threshold_percent}% threshold for decision trees feature selection (test): {test_accuracy * 100:.2f}%\")"
      ]
    },
    {
      "cell_type": "code",
      "source": [
        "# Calculate accuracy\n",
        "val_acc = accuracy_within_range(Y_val, select_pred_val, threshold_percent)\n",
        "print(f\"Accuracy within {threshold_percent}% threshold for decision trees feature selection (val): {val_acc * 100:.2f}%\")"
      ],
      "metadata": {
        "id": "595q1vhz1YpR",
        "outputId": "c1792245-e9d8-467d-c90a-8feabaf91ec2",
        "colab": {
          "base_uri": "https://localhost:8080/"
        }
      },
      "execution_count": 45,
      "outputs": [
        {
          "output_type": "stream",
          "name": "stdout",
          "text": [
            "Accuracy within 10% threshold for decision trees feature selection (val): 21.15%\n"
          ]
        }
      ]
    },
    {
      "cell_type": "code",
      "execution_count": 49,
      "metadata": {
        "outputId": "7fb763ff-e5fb-48a9-8b1b-c53231e25827",
        "colab": {
          "base_uri": "https://localhost:8080/"
        },
        "id": "SChwfThm2Uzj"
      },
      "outputs": [
        {
          "output_type": "stream",
          "name": "stdout",
          "text": [
            "Accuracy within 10% threshold for boosted trees feature selection (test): 25.13%\n"
          ]
        }
      ],
      "source": [
        "# Calculate accuracy\n",
        "test_accuracy = accuracy_within_range(Y_test, select_boost_pred_test, threshold_percent)\n",
        "print(f\"Accuracy within {threshold_percent}% threshold for boosted trees feature selection (test): {test_accuracy * 100:.2f}%\")"
      ]
    },
    {
      "cell_type": "code",
      "execution_count": 51,
      "metadata": {
        "outputId": "3c7e2606-eb49-4535-9c57-0d5551d20f11",
        "colab": {
          "base_uri": "https://localhost:8080/"
        },
        "id": "RUFdjxF42T2J"
      },
      "outputs": [
        {
          "output_type": "stream",
          "name": "stdout",
          "text": [
            "Accuracy within 10% threshold for boosted trees feature selection (val): 20.41%\n"
          ]
        }
      ],
      "source": [
        "# Calculate accuracy\n",
        "test_accuracy = accuracy_within_range(Y_val, select_boost_pred_val, threshold_percent)\n",
        "print(f\"Accuracy within {threshold_percent}% threshold for boosted trees feature selection (val): {test_accuracy * 100:.2f}%\")"
      ]
    },
    {
      "cell_type": "markdown",
      "source": [
        "### on test with various thresholds"
      ],
      "metadata": {
        "id": "rNiYpEH-5g75"
      }
    },
    {
      "cell_type": "code",
      "source": [
        "# Calculate accuracy\n",
        "acc_on_thresh_forboosted = []\n",
        "x_vals = []\n",
        "\n",
        "for i in range (0, 300, 10):\n",
        "  test_accuracy = accuracy_within_range(Y_test, select_boost_pred_test, i)\n",
        "  x_vals.append(i)\n",
        "  acc_on_thresh_forboosted.append(test_accuracy)\n",
        "\n",
        "plt.plot(x_vals, acc_on_thresh_forboosted)\n",
        "plt.xlabel('% error threshold as a whole number')\n",
        "plt.ylabel('Accuracy')\n",
        "plt.title('Prediction Accuracy vs % error threshold \\nfor boosted full model on test set')\n",
        "plt.show()"
      ],
      "metadata": {
        "id": "pIegPoll5jIz",
        "outputId": "ad52809a-849d-4496-9085-4395ef885e62",
        "colab": {
          "base_uri": "https://localhost:8080/",
          "height": 493
        }
      },
      "execution_count": 68,
      "outputs": [
        {
          "output_type": "display_data",
          "data": {
            "text/plain": [
              "<Figure size 640x480 with 1 Axes>"
            ],
            "image/png": "[encoded data removed]"
          },
          "metadata": {}
        }
      ]
    }
  ],
  "metadata": {
    "colab": {
      "provenance": []
    },
    "kernelspec": {
      "display_name": "Python 3",
      "name": "python3"
    },
    "language_info": {
      "codemirror_mode": {
        "name": "ipython",
        "version": 3
      },
      "file_extension": ".py",
      "mimetype": "text/x-python",
      "name": "python",
      "nbconvert_exporter": "python",
      "pygments_lexer": "ipython3",
      "version": "3.9.13"
    }
  },
  "nbformat": 4,
  "nbformat_minor": 0
}