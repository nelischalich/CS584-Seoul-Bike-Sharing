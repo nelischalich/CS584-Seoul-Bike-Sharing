{
  "cells": [
    {
      "cell_type": "code",
      "execution_count": 1,
      "metadata": {
        "id": "gq70abSjQlQk"
      },
      "outputs": [],
      "source": [
        "import matplotlib.pyplot as plt\n",
        "import pandas as pd"
      ]
    },
    {
      "cell_type": "code",
      "execution_count": 2,
      "metadata": {
        "colab": {
          "base_uri": "https://localhost:8080/"
        },
        "id": "8aB_7NdUQKoq",
        "outputId": "cd67e25d-826f-4575-8d23-7951ed929b93"
      },
      "outputs": [
        {
          "name": "stdout",
          "output_type": "stream",
          "text": [
            "         Date  Rented Bike Count  Hour  Temperature(°C)  Humidity(%)  \\\n",
            "0  01/12/2017                254     0             -5.2           37   \n",
            "1  01/12/2017                204     1             -5.5           38   \n",
            "2  01/12/2017                173     2             -6.0           39   \n",
            "3  01/12/2017                107     3             -6.2           40   \n",
            "4  01/12/2017                 78     4             -6.0           36   \n",
            "\n",
            "   Wind speed (m/s)  Visibility (10m)  Dew point temperature(°C)  \\\n",
            "0               2.2              2000                      -17.6   \n",
            "1               0.8              2000                      -17.6   \n",
            "2               1.0              2000                      -17.7   \n",
            "3               0.9              2000                      -17.6   \n",
            "4               2.3              2000                      -18.6   \n",
            "\n",
            "   Solar Radiation (MJ/m2)  Rainfall(mm)  Snowfall (cm) Seasons     Holiday  \\\n",
            "0                      0.0           0.0            0.0  Winter  No Holiday   \n",
            "1                      0.0           0.0            0.0  Winter  No Holiday   \n",
            "2                      0.0           0.0            0.0  Winter  No Holiday   \n",
            "3                      0.0           0.0            0.0  Winter  No Holiday   \n",
            "4                      0.0           0.0            0.0  Winter  No Holiday   \n",
            "\n",
            "  Functioning Day  \n",
            "0             Yes  \n",
            "1             Yes  \n",
            "2             Yes  \n",
            "3             Yes  \n",
            "4             Yes  \n",
            "8760\n"
          ]
        }
      ],
      "source": [
        "## Data import\n",
        "\n",
        "file_path = 'SeoulBikeData.csv'\n",
        "\n",
        "try:\n",
        "    df = pd.read_csv(file_path, encoding='utf-8')\n",
        "except UnicodeDecodeError:\n",
        "    try:\n",
        "        df = pd.read_csv(file_path, encoding='ISO-8859-1')\n",
        "    except UnicodeDecodeError:\n",
        "        df = pd.read_csv(file_path, encoding='cp1252')\n",
        "\n",
        "print(df.head())\n",
        "print(len(df))"
      ]
    },
    {
      "cell_type": "markdown",
      "metadata": {
        "id": "ZLtzep3hQoeE"
      },
      "source": [
        "We begin by creating a test, val, train split. We decide to first try a single hold out set validation approach. We go with 75 train, 15 val, 10 test"
      ]
    },
    {
      "cell_type": "code",
      "execution_count": 3,
      "metadata": {
        "id": "UgeMGG5xQnX6"
      },
      "outputs": [],
      "source": [
        "import numpy as np\n",
        "from sklearn.model_selection import train_test_split"
      ]
    },
    {
      "cell_type": "code",
      "execution_count": 4,
      "metadata": {
        "id": "9o2veCaFSBdX"
      },
      "outputs": [],
      "source": [
        "features = df.drop(columns=['Rented Bike Count', 'Date', 'Functioning Day'])\n",
        "labels = df['Rented Bike Count']"
      ]
    },
    {
      "cell_type": "code",
      "execution_count": 5,
      "metadata": {
        "id": "a0VfRPOARXE4"
      },
      "outputs": [],
      "source": [
        "train_ratio = 0.70\n",
        "val_ratio = 0.20\n",
        "test_ratio = 0.10\n",
        "\n",
        "X_train, X_, Y_train, Y_ = train_test_split(features, labels, test_size=test_ratio, random_state=42)\n",
        "X_val, X_test, Y_val, Y_test = train_test_split(X_, Y_, test_size=val_ratio/(1-test_ratio), random_state=42)\n"
      ]
    },
    {
      "cell_type": "code",
      "execution_count": 6,
      "metadata": {
        "colab": {
          "base_uri": "https://localhost:8080/"
        },
        "id": "10e8gL-ARmco",
        "outputId": "9be2a0a0-7d57-4ac4-f6a4-0ef349e1848e"
      },
      "outputs": [
        {
          "name": "stdout",
          "output_type": "stream",
          "text": [
            "7884\n",
            "195\n",
            "681\n"
          ]
        }
      ],
      "source": [
        "print(len(X_train))\n",
        "print(len(X_test))\n",
        "print(len(X_val))"
      ]
    },
    {
      "cell_type": "markdown",
      "metadata": {
        "id": "Iu-yh6tHTiSc"
      },
      "source": [
        "Must change none numerical columns to numberical labels"
      ]
    },
    {
      "cell_type": "code",
      "execution_count": 7,
      "metadata": {
        "id": "G_cn36spTmLa"
      },
      "outputs": [],
      "source": [
        "from sklearn.preprocessing import LabelEncoder\n",
        "\n",
        "# Assuming 'categorical_columns' is a list of column names with categorical data\n",
        "categorical_columns = ['Seasons', 'Holiday']  # Replace with your column names\n",
        "\n",
        "# Apply label encoding to each categorical column\n",
        "label_encoders = {}\n",
        "for col in categorical_columns:\n",
        "    label_encoders[col] = LabelEncoder()\n",
        "    X_train[col] = label_encoders[col].fit_transform(X_train[col])\n",
        "    X_val[col] = label_encoders[col].transform(X_val[col])  # Use transform on validation data\n"
      ]
    },
    {
      "cell_type": "code",
      "execution_count": 8,
      "metadata": {
        "id": "50vIG7XmihDM"
      },
      "outputs": [],
      "source": [
        "### given pred and ground truth, develops residual plots, R_sq calcs, and MAE\n",
        "def get_metrics(pred, actual, tree):\n",
        "  return False"
      ]
    },
    {
      "cell_type": "code",
      "execution_count": 9,
      "metadata": {
        "colab": {
          "base_uri": "https://localhost:8080/"
        },
        "id": "eGWeWgKYjB9u",
        "outputId": "0a2c2961-0cef-4b29-e8ad-2e50167d21a4"
      },
      "outputs": [
        {
          "name": "stdout",
          "output_type": "stream",
          "text": [
            "0.0\n"
          ]
        }
      ],
      "source": [
        "## return MAE given pred and actual\n",
        "def get_MAE(pred, actual):\n",
        "  return sum(abs(np.array(pred) - np.array(actual)))/len(pred)\n",
        "\n",
        "print(get_MAE([1,2,3], [1,2,3]))"
      ]
    },
    {
      "cell_type": "code",
      "execution_count": 10,
      "metadata": {
        "colab": {
          "base_uri": "https://localhost:8080/"
        },
        "id": "gU-2Z6qhsIRH",
        "outputId": "360259ee-071c-4378-c4a2-ec540b9b71a3"
      },
      "outputs": [
        {
          "data": {
            "text/plain": [
              "[0, 1]"
            ]
          },
          "execution_count": 10,
          "metadata": {},
          "output_type": "execute_result"
        }
      ],
      "source": [
        "## get the accuracy where we define accuracy as a prediction within k% of the actual\n",
        "def get_acc(pred, actual, k):\n",
        "  return [1 if abs(pred[i]-actual[i])/actual[i] <= k else 0 for i in range(len(pred))]\n",
        "  #([1 if (pred[i]*(1+k) >= actual[i] and pred[i]*(1-k) <= actual[i]) else 0 for i in range(len(pred))])\n",
        "\n",
        "get_acc([1,1.52], [1,1], .51)\n",
        "get_acc([1,1.51], [1,1], .51)\n",
        "get_acc([-1,.51], [1,1], .51)\n",
        "get_acc([-1,.52], [1,1], .51)"
      ]
    },
    {
      "cell_type": "markdown",
      "metadata": {
        "id": "I9zXevIgTAd6"
      },
      "source": [
        "Simple decision tree with all features"
      ]
    },
    {
      "cell_type": "code",
      "execution_count": 11,
      "metadata": {
        "id": "N_kpbLxOTEL6"
      },
      "outputs": [],
      "source": [
        "from sklearn.tree import DecisionTreeRegressor\n",
        "from sklearn.metrics import accuracy_score\n",
        "from sklearn.model_selection import cross_val_score\n",
        "\n",
        "decision_tree_full = DecisionTreeRegressor(random_state=2489)\n",
        "\n",
        "decision_tree_full.fit(X_train, Y_train)\n",
        "\n",
        "cross_val_score(decision_tree_full, X_train, Y_train, cv=10)\n",
        "\n",
        "pred = decision_tree_full.predict(X_val)"
      ]
    },
    {
      "cell_type": "markdown",
      "metadata": {
        "id": "4nWRdQJOXVJm"
      },
      "source": [
        "We see potential overfitting. Implementing some constraints may help"
      ]
    },
    {
      "cell_type": "code",
      "execution_count": 12,
      "metadata": {
        "colab": {
          "base_uri": "https://localhost:8080/"
        },
        "id": "_4xBxiabV5pG",
        "outputId": "b94d716a-3780-4678-e373-d1468102c7ac"
      },
      "outputs": [
        {
          "name": "stdout",
          "output_type": "stream",
          "text": [
            "R_sq on validation set 0.6566516148305881\n",
            "R_sq on training set 1.0\n",
            "Mean Absolute Error on validation set: 222.3259911894273\n"
          ]
        }
      ],
      "source": [
        "print(f'R_sq on validation set {decision_tree_full.score(X_val, Y_val)}')\n",
        "print(f'R_sq on training set {decision_tree_full.score(X_train, Y_train)}')\n",
        "print(f'Mean Absolute Error on validation set: {get_MAE(pred, Y_val)}')"
      ]
    },
    {
      "cell_type": "code",
      "execution_count": 13,
      "metadata": {
        "colab": {
          "base_uri": "https://localhost:8080/",
          "height": 638
        },
        "id": "2I41IBlUdyF5",
        "outputId": "2852710e-9487-496f-b143-176c7bc0f2d8"
      },
      "outputs": [
        {
          "data": {
            "text/plain": [
              "(array([  1.,   0.,   0.,   1.,   1.,   5.,   6.,   6.,  10.,  11.,  21.,\n",
              "         31.,  64., 260., 162.,  47.,  21.,  11.,   2.,   6.,   7.,   4.,\n",
              "          2.,   0.,   0.,   0.,   1.,   0.,   0.,   1.]),\n",
              " array([-2163.        , -2006.96666667, -1850.93333333, -1694.9       ,\n",
              "        -1538.86666667, -1382.83333333, -1226.8       , -1070.76666667,\n",
              "         -914.73333333,  -758.7       ,  -602.66666667,  -446.63333333,\n",
              "         -290.6       ,  -134.56666667,    21.46666667,   177.5       ,\n",
              "          333.53333333,   489.56666667,   645.6       ,   801.63333333,\n",
              "          957.66666667,  1113.7       ,  1269.73333333,  1425.76666667,\n",
              "         1581.8       ,  1737.83333333,  1893.86666667,  2049.9       ,\n",
              "         2205.93333333,  2361.96666667,  2518.        ]),\n",
              " <BarContainer object of 30 artists>)"
            ]
          },
          "execution_count": 13,
          "metadata": {},
          "output_type": "execute_result"
        },
        {
          "data": {
            "image/png": "[encoded data removed]",
            "text/plain": [
              "<Figure size 640x480 with 1 Axes>"
            ]
          },
          "metadata": {},
          "output_type": "display_data"
        }
      ],
      "source": [
        "plt.hist(pred - Y_val, bins=30, alpha=0.7, color='blue', edgecolor='black')"
      ]
    },
    {
      "cell_type": "markdown",
      "metadata": {
        "id": "Nk8yuZG3bvSF"
      },
      "source": [
        "Histogram of % error"
      ]
    },
    {
      "cell_type": "code",
      "execution_count": 14,
      "metadata": {
        "colab": {
          "base_uri": "https://localhost:8080/",
          "height": 881
        },
        "id": "PH9oE0_QbV0M",
        "outputId": "e7b20122-96f7-4a6e-8559-b0f98c006118"
      },
      "outputs": [
        {
          "name": "stdout",
          "output_type": "stream",
          "text": [
            "5366    0.015369\n",
            "1147    0.233333\n",
            "5705   -0.075323\n",
            "7518   -0.147392\n",
            "2692    0.032609\n",
            "          ...   \n",
            "6152    0.105972\n",
            "7550    0.009082\n",
            "8476    0.329545\n",
            "828    -0.027586\n",
            "6266   -0.474632\n",
            "Name: Rented Bike Count, Length: 681, dtype: float64\n"
          ]
        },
        {
          "data": {
            "text/plain": [
              "(array([ 27.,  14.,  24.,  41.,  63.,  88., 142.,  92.,  60.,  30.,  16.,\n",
              "         11.,   4.,   6.,   7.,   5.,   1.,   2.,   2.,   1.,   2.,   1.,\n",
              "          0.,   0.,   1.,   0.,   0.,   1.,   1.,   1.,   1.,   0.,   0.,\n",
              "          1.,   1.,   1.,   0.,   0.,   0.,   0.,   0.,   0.,   0.,   0.,\n",
              "          0.,   0.,   0.,   0.,   0.,   0.,   0.,   1.,   0.,   2.,   0.,\n",
              "          0.,   0.,   1.,   0.,   0.]),\n",
              " array([-1.  , -0.85, -0.7 , -0.55, -0.4 , -0.25, -0.1 ,  0.05,  0.2 ,\n",
              "         0.35,  0.5 ,  0.65,  0.8 ,  0.95,  1.1 ,  1.25,  1.4 ,  1.55,\n",
              "         1.7 ,  1.85,  2.  ,  2.15,  2.3 ,  2.45,  2.6 ,  2.75,  2.9 ,\n",
              "         3.05,  3.2 ,  3.35,  3.5 ,  3.65,  3.8 ,  3.95,  4.1 ,  4.25,\n",
              "         4.4 ,  4.55,  4.7 ,  4.85,  5.  ,  5.15,  5.3 ,  5.45,  5.6 ,\n",
              "         5.75,  5.9 ,  6.05,  6.2 ,  6.35,  6.5 ,  6.65,  6.8 ,  6.95,\n",
              "         7.1 ,  7.25,  7.4 ,  7.55,  7.7 ,  7.85,  8.  ]),\n",
              " <BarContainer object of 60 artists>)"
            ]
          },
          "execution_count": 14,
          "metadata": {},
          "output_type": "execute_result"
        },
        {
          "data": {
            "image/png": "[encoded data removed]",
            "text/plain": [
              "<Figure size 640x480 with 1 Axes>"
            ]
          },
          "metadata": {},
          "output_type": "display_data"
        }
      ],
      "source": [
        "import matplotlib.pyplot as plt\n",
        "import math\n",
        "\n",
        "perc_error = ((decision_tree_full.predict(X_val) - Y_val)) / Y_val\n",
        "print(perc_error)\n",
        "plt.hist(perc_error, bins=60, alpha=0.7, color='blue', edgecolor='black', range=[min(perc_error), 8])"
      ]
    },
    {
      "cell_type": "markdown",
      "metadata": {
        "id": "jPZNcC8IXZcv"
      },
      "source": [
        "Now let us try the same tree with some feature selection given our EDA. We will select season, hour, and temperature."
      ]
    },
    {
      "cell_type": "code",
      "execution_count": 15,
      "metadata": {
        "id": "cUhNUi6IUUfY"
      },
      "outputs": [],
      "source": [
        "selected_cols = ['Seasons', 'Hour', 'Temperature(°C)']\n",
        "\n",
        "decision_tree_select = DecisionTreeRegressor(random_state=2489)\n",
        "\n",
        "decision_tree_select.fit(X_train[selected_cols], Y_train)\n",
        "\n",
        "cross_val_score(decision_tree_select, X_train, Y_train, cv=10)\n",
        "\n",
        "pred = decision_tree_select.predict(X_val[selected_cols])"
      ]
    },
    {
      "cell_type": "code",
      "execution_count": 16,
      "metadata": {
        "colab": {
          "base_uri": "https://localhost:8080/"
        },
        "id": "Jp_-qBuOYwqS",
        "outputId": "60305082-dd17-4428-f969-dd0ce4e9fca3"
      },
      "outputs": [
        {
          "name": "stdout",
          "output_type": "stream",
          "text": [
            "R_sq on validation set 0.2768148551755294\n",
            "R_sq on training set 0.9346599283393048\n",
            "Mean Absolute Error on validation set: 331.8215859030837\n"
          ]
        }
      ],
      "source": [
        "print(f'R_sq on validation set {decision_tree_select.score(X_val[selected_cols], Y_val)}')\n",
        "print(f'R_sq on training set {decision_tree_select.score(X_train[selected_cols], Y_train)}')\n",
        "print(f'Mean Absolute Error on validation set: {get_MAE(pred, Y_val)}')"
      ]
    },
    {
      "cell_type": "markdown",
      "metadata": {
        "id": "rc17tThxaNYy"
      },
      "source": [
        "Let's inspect the predictions"
      ]
    },
    {
      "cell_type": "code",
      "execution_count": 17,
      "metadata": {
        "colab": {
          "base_uri": "https://localhost:8080/",
          "height": 638
        },
        "id": "S5egZCnXaMw3",
        "outputId": "c0b3340d-27a2-41cb-a1c6-d48f4c613cef"
      },
      "outputs": [
        {
          "data": {
            "text/plain": [
              "(array([  2.,   2.,   1.,   1.,   7.,   4.,   8.,  11.,  11.,  13.,  26.,\n",
              "         42.,  82., 262.,  98.,  34.,  22.,   9.,  11.,  11.,   7.,   4.,\n",
              "          6.,   1.,   2.,   2.,   0.,   0.,   1.,   1.]),\n",
              " array([-2392.        , -2215.43333333, -2038.86666667, -1862.3       ,\n",
              "        -1685.73333333, -1509.16666667, -1332.6       , -1156.03333333,\n",
              "         -979.46666667,  -802.9       ,  -626.33333333,  -449.76666667,\n",
              "         -273.2       ,   -96.63333333,    79.93333333,   256.5       ,\n",
              "          433.06666667,   609.63333333,   786.2       ,   962.76666667,\n",
              "         1139.33333333,  1315.9       ,  1492.46666667,  1669.03333333,\n",
              "         1845.6       ,  2022.16666667,  2198.73333333,  2375.3       ,\n",
              "         2551.86666667,  2728.43333333,  2905.        ]),\n",
              " <BarContainer object of 30 artists>)"
            ]
          },
          "execution_count": 17,
          "metadata": {},
          "output_type": "execute_result"
        },
        {
          "data": {
            "image/png": "[encoded data removed]",
            "text/plain": [
              "<Figure size 640x480 with 1 Axes>"
            ]
          },
          "metadata": {},
          "output_type": "display_data"
        }
      ],
      "source": [
        "import matplotlib.pyplot as plt\n",
        "plt.hist(pred - Y_val, bins=30, alpha=0.7, color='blue', edgecolor='black')"
      ]
    },
    {
      "cell_type": "code",
      "execution_count": 18,
      "metadata": {
        "colab": {
          "base_uri": "https://localhost:8080/",
          "height": 690
        },
        "id": "1qdm2LS0dSMT",
        "outputId": "46a2bfc8-85c7-4cd6-dfeb-958bd70b3f14"
      },
      "outputs": [
        {
          "name": "stdout",
          "output_type": "stream",
          "text": [
            "5366    0.203893\n",
            "1147    0.233333\n",
            "5705    0.195122\n",
            "7518   -0.147392\n",
            "2692   -0.282609\n",
            "          ...   \n",
            "6152   -0.645199\n",
            "7550   -0.076690\n",
            "8476    0.511364\n",
            "828    -0.096552\n",
            "6266   -0.613748\n",
            "Name: Rented Bike Count, Length: 681, dtype: float64\n"
          ]
        },
        {
          "data": {
            "text/plain": [
              "(array([ 44.,  26.,  48.,  95., 120., 125.,  55.,  39.,  16.,   9.]),\n",
              " array([-1. , -0.8, -0.6, -0.4, -0.2,  0. ,  0.2,  0.4,  0.6,  0.8,  1. ]),\n",
              " <BarContainer object of 10 artists>)"
            ]
          },
          "execution_count": 18,
          "metadata": {},
          "output_type": "execute_result"
        },
        {
          "data": {
            "image/png": "[encoded data removed]",
            "text/plain": [
              "<Figure size 640x480 with 1 Axes>"
            ]
          },
          "metadata": {},
          "output_type": "display_data"
        }
      ],
      "source": [
        "perc_error = ((decision_tree_select.predict(X_val[selected_cols]) - Y_val)) / Y_val\n",
        "print(perc_error)\n",
        "plt.hist(perc_error, bins=10, alpha=0.7, color='blue', edgecolor='black', range=[-1, 1])"
      ]
    },
    {
      "cell_type": "code",
      "execution_count": 19,
      "metadata": {
        "colab": {
          "base_uri": "https://localhost:8080/",
          "height": 564
        },
        "id": "SzxLmHzieCUU",
        "outputId": "2a39483d-20c9-41a6-ebf1-24b39343de1d"
      },
      "outputs": [
        {
          "data": {
            "image/png": "[encoded data removed]",
            "text/plain": [
              "<Figure size 800x600 with 1 Axes>"
            ]
          },
          "metadata": {},
          "output_type": "display_data"
        }
      ],
      "source": [
        "import seaborn as sns\n",
        "# Calculate residuals\n",
        "residuals = np.array(Y_val) - np.array(pred)\n",
        "\n",
        "# Calculate normalized residuals\n",
        "normalized_residuals = residuals / np.std(residuals)\n",
        "\n",
        "# Create a plot of normalized residuals\n",
        "plt.figure(figsize=(8, 6))\n",
        "sns.histplot(normalized_residuals, kde=True, color='blue')\n",
        "plt.xlabel('Normalized Residuals')\n",
        "plt.ylabel('Density')\n",
        "plt.title('Distribution of Normalized Residuals')\n",
        "plt.show()"
      ]
    },
    {
      "cell_type": "markdown",
      "metadata": {
        "id": "6baCSBvfebzT"
      },
      "source": [
        "We see that having all features considered does best on the validation set. Now we will try a more complex model by creating boosted trees."
      ]
    },
    {
      "cell_type": "code",
      "execution_count": 20,
      "metadata": {
        "id": "PHHzZ7GLelE2"
      },
      "outputs": [],
      "source": [
        "from sklearn.ensemble import GradientBoostingRegressor\n",
        "\n",
        "boosted_full = GradientBoostingRegressor(max_depth = 8, learning_rate = .1, random_state=0)\n",
        "boosted_full.fit(X_train, Y_train)\n",
        "preds_boost_full = boosted_full.predict(X_val)"
      ]
    },
    {
      "cell_type": "code",
      "execution_count": 21,
      "metadata": {
        "colab": {
          "base_uri": "https://localhost:8080/"
        },
        "id": "ZU69E8aCkCko",
        "outputId": "44a0bf99-3061-4c76-8587-24e3d9a17da2"
      },
      "outputs": [
        {
          "name": "stdout",
          "output_type": "stream",
          "text": [
            "R_sq on validation set 0.81763845857607\n",
            "R_sq on training set 0.9647789449144308\n",
            "Mean Absolute Error on validation set: 171.54708213054428\n"
          ]
        }
      ],
      "source": [
        "print(f'R_sq on validation set {boosted_full.score(X_val, Y_val)}')\n",
        "print(f'R_sq on training set {boosted_full.score(X_train, Y_train)}')\n",
        "print(f'Mean Absolute Error on validation set: {get_MAE(preds_boost_full, Y_val)}')"
      ]
    },
    {
      "cell_type": "code",
      "execution_count": 22,
      "metadata": {
        "colab": {
          "base_uri": "https://localhost:8080/",
          "height": 638
        },
        "id": "JoWHKMqTvTvG",
        "outputId": "3617719f-dc10-4562-bab1-8f7e0de84352"
      },
      "outputs": [
        {
          "data": {
            "text/plain": [
              "(array([  1.,   1.,   2.,   2.,   3.,   6.,  10.,  13.,  15.,  38.,  67.,\n",
              "        131., 251.,  66.,  27.,  14.,   9.,   5.,   8.,   7.,   2.,   0.,\n",
              "          1.,   1.,   0.,   0.,   0.,   0.,   0.,   1.]),\n",
              " array([-1339.55164838, -1229.81481815, -1120.07798792, -1010.34115769,\n",
              "         -900.60432747,  -790.86749724,  -681.13066701,  -571.39383678,\n",
              "         -461.65700655,  -351.92017632,  -242.18334609,  -132.44651586,\n",
              "          -22.70968563,    87.0271446 ,   196.76397482,   306.50080505,\n",
              "          416.23763528,   525.97446551,   635.71129574,   745.44812597,\n",
              "          855.1849562 ,   964.92178643,  1074.65861666,  1184.39544688,\n",
              "         1294.13227711,  1403.86910734,  1513.60593757,  1623.3427678 ,\n",
              "         1733.07959803,  1842.81642826,  1952.55325849]),\n",
              " <BarContainer object of 30 artists>)"
            ]
          },
          "execution_count": 22,
          "metadata": {},
          "output_type": "execute_result"
        },
        {
          "data": {
            "image/png": "[encoded data removed]",
            "text/plain": [
              "<Figure size 640x480 with 1 Axes>"
            ]
          },
          "metadata": {},
          "output_type": "display_data"
        }
      ],
      "source": [
        "plt.hist(preds_boost_full - Y_val, bins=30, alpha=0.7, color='blue', edgecolor='black')"
      ]
    },
    {
      "cell_type": "markdown",
      "metadata": {
        "id": "q7s1MPu7fNXF"
      },
      "source": [
        "We see a significant improvement in the R^2 using a boosted tree, let us try feature selection on the boosted tree. Again, it turns out the feature selection does worse off. So let us continue with using all features."
      ]
    },
    {
      "cell_type": "code",
      "execution_count": 23,
      "metadata": {
        "colab": {
          "base_uri": "https://localhost:8080/"
        },
        "id": "udVN-KprfTeh",
        "outputId": "ebce2568-5de7-42b3-a291-829de53423b9"
      },
      "outputs": [
        {
          "data": {
            "text/plain": [
              "0.606246763453228"
            ]
          },
          "execution_count": 23,
          "metadata": {},
          "output_type": "execute_result"
        }
      ],
      "source": [
        "boosted_select_model = GradientBoostingRegressor(random_state=0, max_depth = 5)\n",
        "boosted_select_model.fit(X_train[selected_cols], Y_train)\n",
        "preds_boost_select = boosted_select_model.predict(X_val[selected_cols])\n",
        "boosted_select_model.score(X_val[selected_cols], Y_val)"
      ]
    },
    {
      "cell_type": "code",
      "execution_count": 24,
      "metadata": {
        "colab": {
          "base_uri": "https://localhost:8080/"
        },
        "id": "Cjdj72hrkOLH",
        "outputId": "a96765ce-d1ba-418f-e6b5-0814577ee780"
      },
      "outputs": [
        {
          "name": "stdout",
          "output_type": "stream",
          "text": [
            "R_sq on validation set 0.606246763453228\n",
            "R_sq on training set 0.7152361705564345\n",
            "Mean Absolute Error on validation set: 255.1354658508313\n"
          ]
        }
      ],
      "source": [
        "print(f'R_sq on validation set {boosted_select_model.score(X_val[selected_cols], Y_val)}')\n",
        "print(f'R_sq on training set {boosted_select_model.score(X_train[selected_cols], Y_train)}')\n",
        "print(f'Mean Absolute Error on validation set: {get_MAE(preds_boost_select, Y_val)}')"
      ]
    },
    {
      "cell_type": "code",
      "execution_count": 25,
      "metadata": {
        "colab": {
          "base_uri": "https://localhost:8080/",
          "height": 638
        },
        "id": "StDTwKWsvRH-",
        "outputId": "ea7c3abc-861d-4108-c19f-e57c9347e825"
      },
      "outputs": [
        {
          "data": {
            "text/plain": [
              "(array([  1.,   0.,   0.,   0.,   1.,   2.,   1.,   3.,   2.,  10.,  18.,\n",
              "         21.,  57.,  75., 168., 179.,  45.,  29.,  15.,  10.,   8.,  11.,\n",
              "          2.,   6.,   9.,   0.,   1.,   4.,   2.,   1.]),\n",
              " array([-2019.86334044, -1886.0722288 , -1752.28111715, -1618.49000551,\n",
              "        -1484.69889386, -1350.90778222, -1217.11667057, -1083.32555893,\n",
              "         -949.53444728,  -815.74333564,  -681.95222399,  -548.16111235,\n",
              "         -414.3700007 ,  -280.57888906,  -146.78777741,   -12.99666577,\n",
              "          120.79444588,   254.58555752,   388.37666917,   522.16778081,\n",
              "          655.95889246,   789.7500041 ,   923.54111575,  1057.33222739,\n",
              "         1191.12333904,  1324.91445068,  1458.70556233,  1592.49667397,\n",
              "         1726.28778562,  1860.07889726,  1993.87000891]),\n",
              " <BarContainer object of 30 artists>)"
            ]
          },
          "execution_count": 25,
          "metadata": {},
          "output_type": "execute_result"
        },
        {
          "data": {
            "image/png": "[encoded data removed]",
            "text/plain": [
              "<Figure size 640x480 with 1 Axes>"
            ]
          },
          "metadata": {},
          "output_type": "display_data"
        }
      ],
      "source": [
        "plt.hist(preds_boost_select - Y_val, bins=30, alpha=0.7, color='blue', edgecolor='black')"
      ]
    },
    {
      "cell_type": "markdown",
      "metadata": {
        "id": "vUSiX6wpkeNo"
      },
      "source": [
        "We can analyze the two boosted tree's feature importance"
      ]
    },
    {
      "cell_type": "code",
      "execution_count": 26,
      "metadata": {
        "colab": {
          "base_uri": "https://localhost:8080/"
        },
        "id": "mzSJbtiCkgCt",
        "outputId": "f4794058-3249-4242-ee7e-226f9f86d31b"
      },
      "outputs": [
        {
          "name": "stdout",
          "output_type": "stream",
          "text": [
            "Index(['Hour', 'Temperature(°C)', 'Humidity(%)', 'Wind speed (m/s)',\n",
            "       'Visibility (10m)', 'Dew point temperature(°C)',\n",
            "       'Solar Radiation (MJ/m2)', 'Rainfall(mm)', 'Snowfall (cm)', 'Seasons',\n",
            "       'Holiday'],\n",
            "      dtype='object') \n",
            "\n",
            "[0.30318358 0.32552226 0.06899794 0.02231504 0.02822547 0.05018614\n",
            " 0.10001685 0.05091395 0.00064095 0.04323503 0.00676279] \n",
            "\n",
            "['Seasons', 'Hour', 'Temperature(°C)']\n",
            "[0.05414147 0.48124055 0.46461798]\n"
          ]
        }
      ],
      "source": [
        "print(X_val.columns, '\\n')\n",
        "\n",
        "print(boosted_full.feature_importances_, '\\n')\n",
        "\n",
        "print(selected_cols)\n",
        "print(boosted_select_model.feature_importances_)"
      ]
    },
    {
      "cell_type": "code",
      "execution_count": 27,
      "metadata": {},
      "outputs": [],
      "source": [
        "# I wanted to create new preds for test set but it wasn't transformed and I didn't know how to do it with LabelEncoder\n",
        "dec_val_pred = decision_tree_full.predict(X_val)\n",
        "boost_val_pred = boosted_full.predict(X_val)"
      ]
    },
    {
      "cell_type": "code",
      "execution_count": 28,
      "metadata": {
        "id": "I-BwOtSRvOiG"
      },
      "outputs": [],
      "source": [
        "def accuracy_within_range(pred, actual, threshold):\n",
        "    thresh_perc = threshold / 100\n",
        "    errors = np.abs(actual - pred)\n",
        "    within_bounds = errors <= thresh_perc * np.abs(actual)\n",
        "    accuracy = np.mean(within_bounds)\n",
        "    return accuracy"
      ]
    },
    {
      "cell_type": "code",
      "execution_count": 29,
      "metadata": {},
      "outputs": [
        {
          "name": "stdout",
          "output_type": "stream",
          "text": [
            "Accuracy within 10% threshold for decision trees: 27.46%\n"
          ]
        }
      ],
      "source": [
        "# Set the threshold (e.g., 5%)\n",
        "threshold_percent = 10\n",
        "\n",
        "# Calculate accuracy\n",
        "test_accuracy = accuracy_within_range(Y_val, dec_val_pred, threshold_percent)\n",
        "print(f\"Accuracy within {threshold_percent}% threshold for decision trees: {test_accuracy * 100:.2f}%\")"
      ]
    },
    {
      "cell_type": "code",
      "execution_count": 30,
      "metadata": {},
      "outputs": [
        {
          "name": "stdout",
          "output_type": "stream",
          "text": [
            "Accuracy within 10% threshold for boosted trees: 27.75%\n"
          ]
        }
      ],
      "source": [
        "# Set the threshold (e.g., 5%)\n",
        "threshold_percent = 10\n",
        "\n",
        "# Calculate accuracy\n",
        "test_accuracy = accuracy_within_range(Y_val, boost_val_pred, threshold_percent)\n",
        "print(f\"Accuracy within {threshold_percent}% threshold for boosted trees: {test_accuracy * 100:.2f}%\")"
      ]
    }
  ],
  "metadata": {
    "colab": {
      "authorship_tag": "ABX9TyMQ8y4yBS7beNaiFfwiJnZw",
      "provenance": []
    },
    "kernelspec": {
      "display_name": "Python 3",
      "name": "python3"
    },
    "language_info": {
      "codemirror_mode": {
        "name": "ipython",
        "version": 3
      },
      "file_extension": ".py",
      "mimetype": "text/x-python",
      "name": "python",
      "nbconvert_exporter": "python",
      "pygments_lexer": "ipython3",
      "version": "3.9.13"
    }
  },
  "nbformat": 4,
  "nbformat_minor": 0
}
