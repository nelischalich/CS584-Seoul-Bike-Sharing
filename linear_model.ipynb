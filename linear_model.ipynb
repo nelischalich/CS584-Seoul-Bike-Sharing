{
 "cells": [
  {
   "cell_type": "code",
   "execution_count": 1,
   "metadata": {},
   "outputs": [],
   "source": [
    "import matplotlib.pyplot as plt\n",
    "import pandas as pd\n",
    "import statsmodels.api as sm\n",
    "from sklearn.linear_model import PoissonRegressor, LinearRegression\n",
    "from sklearn.model_selection import train_test_split\n",
    "from sklearn.metrics import mean_squared_error\n",
    "from sklearn.model_selection import cross_val_score, KFold\n",
    "from sklearn.metrics import mean_squared_error, r2_score, mean_absolute_error\n",
    "import numpy as np"
   ]
  },
  {
   "cell_type": "code",
   "execution_count": 2,
   "metadata": {},
   "outputs": [],
   "source": [
    "# Load Data\n",
    "\n",
    "file_path = 'SeoulBikeData.csv'\n",
    "\n",
    "try:\n",
    "    df = pd.read_csv(file_path, encoding='utf-8')\n",
    "except UnicodeDecodeError:\n",
    "    try:\n",
    "        df = pd.read_csv(file_path, encoding='ISO-8859-1')\n",
    "    except UnicodeDecodeError:\n",
    "        df = pd.read_csv(file_path, encoding='cp1252')\n",
    "        \n",
    "# One-hot encoding for categorical columns\n",
    "df = pd.get_dummies(df, columns=['Seasons', 'Holiday'])\n",
    "x = df.drop(columns=['Rented Bike Count', 'Date', 'Functioning Day', 'Holiday_No Holiday'])\n",
    "y = df[\"Rented Bike Count\"]\n"
   ]
  },
  {
   "cell_type": "code",
   "execution_count": 3,
   "metadata": {},
   "outputs": [],
   "source": [
    "# Split the data into training and testing sets\n",
    "train_ratio = 0.70\n",
    "val_ratio = 0.15\n",
    "test_ratio = 0.15\n",
    "\n",
    "x_train, x_temp, y_train, y_temp = train_test_split(x, y, test_size=test_ratio, random_state=42)\n",
    "x_val, x_test, y_val, y_test = train_test_split(x_temp, y_temp, test_size=val_ratio/(1-test_ratio), random_state=42)\n"
   ]
  },
  {
   "cell_type": "code",
   "execution_count": 4,
   "metadata": {},
   "outputs": [
    {
     "name": "stdout",
     "output_type": "stream",
     "text": [
      "Mean Absolute Error on Validation Set:  519.4656268199428\n",
      "Mean Absolute Error on Test Set:  498.56827780710773 \n",
      "\n",
      "Mean Squared Error on Validation Set:  424409.64234197966\n",
      "Mean Squared Error on Test Set:  359721.9190784558 \n",
      "\n",
      "R2 on Validation Set:  -1.4603966105308785e-06\n",
      "R2 on Test Set:  -0.005570539743149805\n"
     ]
    },
    {
     "name": "stderr",
     "output_type": "stream",
     "text": [
      "/Users/nelidaschalichayllon/opt/anaconda3/lib/python3.9/site-packages/sklearn/linear_model/_linear_loss.py:290: RuntimeWarning: invalid value encountered in matmul\n",
      "  grad[:n_features] = X.T @ grad_pointwise + l2_reg_strength * weights\n"
     ]
    }
   ],
   "source": [
    "# Create and train the Poisson regression model\n",
    "poisson_model = PoissonRegressor()\n",
    "poisson_model.fit(x_train, y_train)\n",
    "\n",
    "# Make predictions\n",
    "poisson_val_pred = poisson_model.predict(x_val)\n",
    "poisson_test_pred = poisson_model.predict(x_test)\n",
    "\n",
    "# Evaluate the MAE\n",
    "mae_val = mean_absolute_error(y_val, poisson_val_pred)\n",
    "print(\"Mean Absolute Error on Validation Set: \", mae_val)\n",
    "mae_test = mean_absolute_error(y_test, poisson_test_pred)\n",
    "print(\"Mean Absolute Error on Test Set: \", mae_test, \"\\n\")\n",
    "\n",
    "# Evaluate the MSE\n",
    "mse_val = mean_squared_error(y_val, poisson_val_pred)\n",
    "print(\"Mean Squared Error on Validation Set: \", mse_val)\n",
    "mse_test = mean_squared_error(y_test, poisson_test_pred)\n",
    "print(\"Mean Squared Error on Test Set: \", mse_test, \"\\n\")\n",
    "\n",
    "# Evaluate the R2\n",
    "r2_val = r2_score(y_val, poisson_val_pred)\n",
    "print(\"R2 on Validation Set: \", r2_val)\n",
    "r2_test = r2_score(y_test, poisson_test_pred)\n",
    "print(\"R2 on Test Set: \", r2_test)"
   ]
  },
  {
   "cell_type": "code",
   "execution_count": 5,
   "metadata": {},
   "outputs": [
    {
     "name": "stdout",
     "output_type": "stream",
     "text": [
      "Mean Squared Error on Validation Set:  221176.57687142235\n",
      "Mean Squared Error on Test Set:  176709.73285684062 \n",
      "\n",
      "Mean Absolute Error on Validation Set:  346.4958978604754\n",
      "Mean Absolute Error on Test Set:  323.54484353046854 \n",
      "\n",
      "R2 on Validation Set:  0.47885986129710456\n",
      "R2 on Test Set:  0.5060237032484924\n"
     ]
    }
   ],
   "source": [
    "# Create and train the Linear regression model\n",
    "linear_model = LinearRegression()\n",
    "linear_model.fit(x_train, y_train)\n",
    "\n",
    "# Make predictions\n",
    "linear_val_pred = linear_model.predict(x_val)\n",
    "linear_test_pred = linear_model.predict(x_test)\n",
    "\n",
    "# Evaluate the MSE\n",
    "mse_val = mean_squared_error(y_val, linear_val_pred)\n",
    "print(\"Mean Squared Error on Validation Set: \", mse_val)\n",
    "mse_test = mean_squared_error(y_test, linear_test_pred)\n",
    "print(\"Mean Squared Error on Test Set: \", mse_test, \"\\n\")\n",
    "\n",
    "# Evaluate the MAE\n",
    "mae_val = mean_absolute_error(y_val, linear_val_pred)\n",
    "print(\"Mean Absolute Error on Validation Set: \", mae_val)\n",
    "mae_test = mean_absolute_error(y_test, linear_test_pred)\n",
    "print(\"Mean Absolute Error on Test Set: \", mae_test, \"\\n\")\n",
    "\n",
    "# Evaluate the R2\n",
    "r2_val = r2_score(y_val, linear_val_pred)\n",
    "print(\"R2 on Validation Set: \", r2_val)\n",
    "r2_test = r2_score(y_test, linear_test_pred)\n",
    "print(\"R2 on Test Set: \", r2_test)"
   ]
  },
  {
   "cell_type": "code",
   "execution_count": 6,
   "metadata": {},
   "outputs": [
    {
     "name": "stdout",
     "output_type": "stream",
     "text": [
      "Mean Absolute Error on Validation Set:  306.4216391811798\n",
      "Mean Absolute Error on Test Set:  276.5346885526115 \n",
      "\n",
      "Mean Squared Error on Validation Set:  210408.23857721465\n",
      "Mean Squared Error on Test Set:  160528.03752362484 \n",
      "\n",
      "R2 on Validation Set:  0.5042324092930229\n",
      "R2 on Test Set:  0.5512581892421917\n"
     ]
    }
   ],
   "source": [
    "# Create and train the Negative Binomial regression model\n",
    "nb = sm.GLM(y_train, x_train, family=sm.families.NegativeBinomial())\n",
    "nb_model = nb.fit()\n",
    "\n",
    "# Make predictions\n",
    "nb_val_pred = nb_model.predict(x_val)\n",
    "nb_test_pred = nb_model.predict(x_test)\n",
    "\n",
    "# Evaluate the MAE\n",
    "mae_val = mean_absolute_error(y_val, nb_val_pred)\n",
    "print(\"Mean Absolute Error on Validation Set: \", mae_val)\n",
    "mae_test = mean_absolute_error(y_test, nb_test_pred)\n",
    "print(\"Mean Absolute Error on Test Set: \", mae_test, \"\\n\")\n",
    "\n",
    "# Evaluate the MSE\n",
    "mse_val = mean_squared_error(y_val, nb_val_pred)\n",
    "print(\"Mean Squared Error on Validation Set: \", mse_val)\n",
    "mse_test = mean_squared_error(y_test, nb_test_pred)\n",
    "print(\"Mean Squared Error on Test Set: \", mse_test, \"\\n\")\n",
    "\n",
    "# Evaluate the R2\n",
    "r2_val = r2_score(y_val, nb_val_pred)\n",
    "print(\"R2 on Validation Set: \", r2_val)\n",
    "r2_test = r2_score(y_test, nb_test_pred)\n",
    "print(\"R2 on Test Set: \", r2_test)"
   ]
  },
  {
   "cell_type": "code",
   "execution_count": 7,
   "metadata": {},
   "outputs": [],
   "source": [
    "kfold = KFold(n_splits=5, shuffle=True, random_state=42)\n",
    "scores = cross_val_score(linear_model, x_train, y_train, cv=kfold, scoring='neg_mean_absolute_error')"
   ]
  },
  {
   "cell_type": "markdown",
   "metadata": {},
   "source": [
    "Our Negative Binomial Regression Model gave us the best fit as seen by the MAE and other evaluations."
   ]
  },
  {
   "cell_type": "code",
   "execution_count": 8,
   "metadata": {},
   "outputs": [
    {
     "data": {
      "text/plain": [
       "(array([  1.,   0.,   1.,   4.,   2.,   8.,   4.,   8.,   3.,  14.,  12.,\n",
       "         25.,  24.,  37.,  63.,  81., 157., 270., 136.,  98.,  49.,  24.,\n",
       "         18.,  13.,  12.,   5.,   6.,   2.,   4.,   1.]),\n",
       " array([-2250.58287449, -2118.84057967, -1987.09828486, -1855.35599004,\n",
       "        -1723.61369522, -1591.8714004 , -1460.12910558, -1328.38681076,\n",
       "        -1196.64451595, -1064.90222113,  -933.15992631,  -801.41763149,\n",
       "         -669.67533667,  -537.93304185,  -406.19074704,  -274.44845222,\n",
       "         -142.7061574 ,   -10.96386258,   120.77843224,   252.52072706,\n",
       "          384.26302187,   516.00531669,   647.74761151,   779.48990633,\n",
       "          911.23220115,  1042.97449597,  1174.71679078,  1306.4590856 ,\n",
       "         1438.20138042,  1569.94367524,  1701.68597006]),\n",
       " <BarContainer object of 30 artists>)"
      ]
     },
     "execution_count": 8,
     "metadata": {},
     "output_type": "execute_result"
    },
    {
     "data": {
      "image/png": "[encoded data removed]",
      "text/plain": [
       "<Figure size 640x480 with 1 Axes>"
      ]
     },
     "metadata": {},
     "output_type": "display_data"
    }
   ],
   "source": [
    "plt.hist(nb_val_pred - y_val, bins=30, alpha=0.7, color='blue', edgecolor='black')"
   ]
  },
  {
   "cell_type": "code",
   "execution_count": 9,
   "metadata": {},
   "outputs": [
    {
     "name": "stdout",
     "output_type": "stream",
     "text": [
      "8158   -0.287459\n",
      "8493    0.029572\n",
      "5403   -0.018804\n",
      "6050    0.142756\n",
      "8396   -0.026617\n",
      "          ...   \n",
      "503     0.220646\n",
      "8168         inf\n",
      "3071    1.426940\n",
      "8476    3.322223\n",
      "3689   -0.409082\n",
      "Length: 1082, dtype: float64\n"
     ]
    },
    {
     "data": {
      "text/plain": [
       "(array([  5.,  27.,  58.,  92., 139., 126., 117.,  94.,  65.,  42.,  31.,\n",
       "         29.,  26.,  24.,  18.,  15.,  17.,  12.,   8.,   9.,   9.,   7.,\n",
       "          5.,   2.,   6.,   2.,   4.,   2.,   3.,   3.,   2.,   1.,   0.,\n",
       "          0.,   2.,   2.,   1.,   0.,   2.,   0.,   0.,   2.,   0.,   0.,\n",
       "          0.,   0.,   1.,   0.,   0.,   1.,   1.,   1.,   4.,   0.,   0.,\n",
       "          0.,   0.,   0.,   1.,   1.]),\n",
       " array([-0.90539378, -0.75697055, -0.60854732, -0.46012409, -0.31170086,\n",
       "        -0.16327763, -0.0148544 ,  0.13356883,  0.28199205,  0.43041528,\n",
       "         0.57883851,  0.72726174,  0.87568497,  1.0241082 ,  1.17253143,\n",
       "         1.32095466,  1.46937789,  1.61780112,  1.76622435,  1.91464758,\n",
       "         2.06307081,  2.21149404,  2.35991727,  2.5083405 ,  2.65676373,\n",
       "         2.80518696,  2.95361019,  3.10203342,  3.25045665,  3.39887988,\n",
       "         3.54730311,  3.69572634,  3.84414957,  3.9925728 ,  4.14099603,\n",
       "         4.28941926,  4.43784249,  4.58626572,  4.73468895,  4.88311218,\n",
       "         5.03153541,  5.17995864,  5.32838187,  5.47680509,  5.62522832,\n",
       "         5.77365155,  5.92207478,  6.07049801,  6.21892124,  6.36734447,\n",
       "         6.5157677 ,  6.66419093,  6.81261416,  6.96103739,  7.10946062,\n",
       "         7.25788385,  7.40630708,  7.55473031,  7.70315354,  7.85157677,\n",
       "         8.        ]),\n",
       " <BarContainer object of 60 artists>)"
      ]
     },
     "execution_count": 9,
     "metadata": {},
     "output_type": "execute_result"
    },
    {
     "data": {
      "image/png": "[encoded data removed]",
      "text/plain": [
       "<Figure size 640x480 with 1 Axes>"
      ]
     },
     "metadata": {},
     "output_type": "display_data"
    }
   ],
   "source": [
    "perc_error = ((nb_model.predict(x_val) - y_val)) / y_val\n",
    "print(perc_error)\n",
    "plt.hist(perc_error, bins=60, alpha=0.7, color='blue', edgecolor='black', range=[min(perc_error), 8])"
   ]
  },
  {
   "cell_type": "markdown",
   "metadata": {},
   "source": [
    "Trying with feature selection"
   ]
  },
  {
   "cell_type": "code",
   "execution_count": 10,
   "metadata": {},
   "outputs": [
    {
     "data": {
      "text/plain": [
       "Index(['Hour', 'Temperature(°C)', 'Humidity(%)', 'Wind speed (m/s)',\n",
       "       'Visibility (10m)', 'Dew point temperature(°C)',\n",
       "       'Solar Radiation (MJ/m2)', 'Rainfall(mm)', 'Snowfall (cm)',\n",
       "       'Seasons_Autumn', 'Seasons_Spring', 'Seasons_Summer', 'Seasons_Winter',\n",
       "       'Holiday_Holiday'],\n",
       "      dtype='object')"
      ]
     },
     "execution_count": 10,
     "metadata": {},
     "output_type": "execute_result"
    }
   ],
   "source": [
    "x_train.columns"
   ]
  },
  {
   "cell_type": "code",
   "execution_count": 11,
   "metadata": {},
   "outputs": [
    {
     "name": "stdout",
     "output_type": "stream",
     "text": [
      "Mean Absolute Error on Validation Set:  329.083996168972\n",
      "Mean Absolute Error on Test Set:  326.4162182376729 \n",
      "\n",
      "Mean Squared Error on Validation Set:  234752.86276679774\n",
      "Mean Squared Error on Test Set:  216542.83389577438 \n",
      "\n",
      "R2 on Validation Set:  0.44687117779966934\n",
      "R2 on Test Set:  0.3946738221681906\n"
     ]
    }
   ],
   "source": [
    "selected_cols = ['Seasons_Autumn', 'Seasons_Spring', 'Seasons_Summer', 'Seasons_Winter', 'Hour', 'Temperature(°C)']\n",
    "\n",
    "# Create and train the Negative Binomial regression model\n",
    "sel_nb = sm.GLM(y_train, x_train[selected_cols], family=sm.families.NegativeBinomial())\n",
    "sel_nb_model = sel_nb.fit()\n",
    "\n",
    "# Make predictions\n",
    "sel_nb_val_pred = sel_nb_model.predict(x_val[selected_cols])\n",
    "sel_nb_test_pred = sel_nb_model.predict(x_test[selected_cols])\n",
    "\n",
    "# Evaluate the MAE\n",
    "mae_val = mean_absolute_error(y_val, sel_nb_val_pred)\n",
    "print(\"Mean Absolute Error on Validation Set: \", mae_val)\n",
    "mae_test = mean_absolute_error(y_test, sel_nb_test_pred)\n",
    "print(\"Mean Absolute Error on Test Set: \", mae_test, \"\\n\")\n",
    "\n",
    "# Evaluate the MSE\n",
    "mse_val = mean_squared_error(y_val, sel_nb_val_pred)\n",
    "print(\"Mean Squared Error on Validation Set: \", mse_val)\n",
    "mse_test = mean_squared_error(y_test, sel_nb_test_pred)\n",
    "print(\"Mean Squared Error on Test Set: \", mse_test, \"\\n\")\n",
    "\n",
    "# Evaluate the R2\n",
    "r2_val = r2_score(y_val, sel_nb_val_pred)\n",
    "print(\"R2 on Validation Set: \", r2_val)\n",
    "r2_test = r2_score(y_test, sel_nb_test_pred)\n",
    "print(\"R2 on Test Set: \", r2_test)\n"
   ]
  },
  {
   "cell_type": "code",
   "execution_count": 14,
   "metadata": {},
   "outputs": [
    {
     "name": "stdout",
     "output_type": "stream",
     "text": [
      "Accuracy within 10% threshold: 12.93%\n"
     ]
    }
   ],
   "source": [
    "'''Create accuracy within range function, exact accuracy is not needed but \n",
    "if the prediction is within a certain range of the actual value, it is considered accurate'''\n",
    "def accuracy_within_range(pred, actual, threshold):\n",
    "    thresh_perc = threshold / 100\n",
    "    errors = np.abs(actual - pred)\n",
    "    within_bounds = errors <= thresh_perc * np.abs(actual)\n",
    "    accuracy = np.mean(within_bounds)\n",
    "    return accuracy\n",
    "\n",
    "# Set the threshold (e.g., 5%)\n",
    "threshold_percent = 10\n",
    "\n",
    "# Calculate accuracy\n",
    "test_accuracy = accuracy_within_range(y_test, nb_test_pred, threshold_percent)\n",
    "print(f\"Accuracy within {threshold_percent}% threshold: {test_accuracy * 100:.2f}%\")\n"
   ]
  }
 ],
 "metadata": {
  "kernelspec": {
   "display_name": "base",
   "language": "python",
   "name": "python3"
  },
  "language_info": {
   "codemirror_mode": {
    "name": "ipython",
    "version": 3
   },
   "file_extension": ".py",
   "mimetype": "text/x-python",
   "name": "python",
   "nbconvert_exporter": "python",
   "pygments_lexer": "ipython3",
   "version": "3.9.13"
  }
 },
 "nbformat": 4,
 "nbformat_minor": 2
}
